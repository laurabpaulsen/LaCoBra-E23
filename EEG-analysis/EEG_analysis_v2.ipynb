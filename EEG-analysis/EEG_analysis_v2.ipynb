{
 "cells": [
  {
   "cell_type": "markdown",
   "metadata": {},
   "source": [
    "# Lexical Decision Task\n",
    "Today we will try to apply the general EEG preprocessing pipeline from the MNE tutorial and the faceWord-experiment to the EEG data from the lexical decision task.\n"
   ]
  },
  {
   "cell_type": "markdown",
   "metadata": {},
   "source": [
    "#### Setting up Python\n",
    "Before starting to analyse our own EEG data, we need to make sure we have our virtual environment we created during the `MNE-tutorial`.\n",
    "\n",
    "1. Press `Select Kernel`, then `Python Environments...` and then choose any Python kernel. \n",
    "2. Run the code chunk below\n",
    "3. Change the kernel used to run the code in this notebook. Press where it says `Python X.XX.XX` in the top right corner, then `Select Another Kernel`, then `Jupyter kernel...` and then select `env`. If `env` does not show up, press the little refresh symbol! "
   ]
  },
  {
   "cell_type": "code",
   "execution_count": null,
   "metadata": {},
   "outputs": [],
   "source": [
    "!bash ../env_to_ipynb_kernel.sh"
   ]
  },
  {
   "cell_type": "markdown",
   "metadata": {},
   "source": [
    "# Analysis of EEG data collected!\n",
    "The workflow of preprocessing is as follows!\n",
    "1. Load the data\n",
    "2. Exclude bad channels\n",
    "3. Common average reference\n",
    "4. Filtering\n",
    "5. Artefact rejection\n",
    "6. Epoching\n",
    "7. Downsampling\n",
    "\n",
    "This is the same workflow as in the `preprocessing_tutorial.ipynb`. This notebook serves as a \"skeleton\" where you fill out the code you need. All code bits needed can be found in the notebook from the last class. "
   ]
  },
  {
   "cell_type": "markdown",
   "metadata": {},
   "source": [
    "<div class=\"alert alert-block alert-info\"><b>Tip:</b>\n",
    "The MNE package has some really nice documentation! If you have any questions on how to use a function or if you want to see other ways you can plot your data, have a look at it! \n",
    "\n",
    "https://mne.tools/stable/index.html"
   ]
  },
  {
   "cell_type": "code",
   "execution_count": null,
   "metadata": {},
   "outputs": [],
   "source": [
    "import mne\n",
    "import os\n",
    "import matplotlib\n",
    "import numpy as np\n",
    "\n",
    "!pip install pandas\n",
    "import pandas as pd\n",
    "\n",
    "%matplotlib inline"
   ]
  },
  {
   "cell_type": "markdown",
   "metadata": {},
   "source": [
    "## 1. Load the data\n",
    "As we are no longer using sample data from MNE, the process of loading the data will be a bit different. Therefore, code to help you is provided here!"
   ]
  },
  {
   "cell_type": "code",
   "execution_count": null,
   "metadata": {},
   "outputs": [],
   "source": [
    "# reading the file & loading in the data\n",
    "data_folder = '/work/811462/'\n",
    "group_name = \"group5\"\n",
    "\n",
    "# path to the data - MAKE SURE TO CHANGE PATH ACCORDING TO YOUR GROUP NUMBER!\n",
    "data_path = os.path.join(data_folder, f\"{group_name}.vhdr\")\n",
    "\n",
    "raw = mne.io.read_raw_brainvision(data_path)\n",
    "raw.load_data()\n",
    "\n",
    "# set standard montage (let MNE know the layout of the electrodes on the cap)\n",
    "montage = mne.channels.make_standard_montage('standard_1020')\n",
    "raw.set_montage(montage, verbose=False)"
   ]
  },
  {
   "cell_type": "code",
   "execution_count": null,
   "metadata": {},
   "outputs": [],
   "source": [
    "# reading in the csv file with experiment information\n",
    "logfile = pd.read_csv(os.path.join(data_folder, f\"subject-{group_name[-1]}.csv\"))\n",
    "logfile.head()"
   ]
  },
  {
   "cell_type": "markdown",
   "metadata": {},
   "source": [
    "### Plotting the sensor layout!\n",
    "Now lets plot the layout of the channels and see if it matches what you remember from making the recordings!"
   ]
  },
  {
   "cell_type": "code",
   "execution_count": null,
   "metadata": {},
   "outputs": [],
   "source": [
    "raw.plot_sensors(show_names=True);"
   ]
  },
  {
   "cell_type": "markdown",
   "metadata": {},
   "source": [
    "## 2. Exclude bad channels"
   ]
  },
  {
   "cell_type": "code",
   "execution_count": null,
   "metadata": {},
   "outputs": [],
   "source": [
    "# sometimes filtering before plotting the channels can make it more nice to look at as we are getting rid of some noise!\n",
    "# BUT IF YOU FILTER HERE NO NEED TO DO IT FURTHER ALONG :D\n",
    "\n",
    "raw.filter(None, 40)\n",
    "raw.filter(0.1, None)"
   ]
  },
  {
   "cell_type": "code",
   "execution_count": null,
   "metadata": {},
   "outputs": [],
   "source": [
    "# STEP 1: Plot the raw data to help you identify bad channels\n",
    "raw.plot(\n",
    "    n_channels=32, \n",
    "    start=100, \n",
    "    scalings={\"eeg\": 250e-7}, # try modifying this value to make the plot more pleasant to look at \n",
    "    duration=10);"
   ]
  },
  {
   "cell_type": "code",
   "execution_count": null,
   "metadata": {},
   "outputs": [],
   "source": [
    "# STEP 2: Mark bad channels as bad if there are any!"
   ]
  },
  {
   "cell_type": "code",
   "execution_count": null,
   "metadata": {},
   "outputs": [],
   "source": [
    "# STEP 3: Remove the bad channels"
   ]
  },
  {
   "cell_type": "markdown",
   "metadata": {},
   "source": [
    "## 3. Common average reference"
   ]
  },
  {
   "cell_type": "code",
   "execution_count": null,
   "metadata": {},
   "outputs": [],
   "source": [
    "# STEP 1: Choose the common average reference\n",
    "raw.set_eeg_reference('average', projection=True)\n",
    "\n",
    "# STEP 2: applying the reference to the data\n",
    "raw.apply_proj()"
   ]
  },
  {
   "cell_type": "markdown",
   "metadata": {},
   "source": [
    "## 4. Filtering"
   ]
  },
  {
   "cell_type": "code",
   "execution_count": null,
   "metadata": {},
   "outputs": [],
   "source": [
    "# STEP 1: high-pass filtering the data at 0.1 Hz\n",
    "\n",
    "# STEP 2: low-pass filtering at 40 Hz\n",
    "\n",
    "# STEP 3: plot the filtered data for inspection"
   ]
  },
  {
   "cell_type": "markdown",
   "metadata": {},
   "source": [
    "## 5. Artefact rejection"
   ]
  },
  {
   "cell_type": "markdown",
   "metadata": {},
   "source": [
    "### ICA"
   ]
  },
  {
   "cell_type": "code",
   "execution_count": null,
   "metadata": {},
   "outputs": [],
   "source": [
    "# making a copy of the data set\n",
    "raw_tmp = raw.copy()"
   ]
  },
  {
   "cell_type": "code",
   "execution_count": null,
   "metadata": {},
   "outputs": [],
   "source": [
    "# band pass filter! \n",
    "raw_tmp.filter(l_freq=1, h_freq=40)\n",
    "\n",
    "raw_tmp.plot(\n",
    "    n_channels=32, \n",
    "    start=0, \n",
    "    scalings={\"eeg\": 250e-7}, # try modifying this value to make the plot more pleasant to look at \n",
    "    duration=10);"
   ]
  },
  {
   "cell_type": "code",
   "execution_count": null,
   "metadata": {},
   "outputs": [],
   "source": [
    "# cropping the data\n",
    "t_start = 10\n",
    "t_end = 205\n",
    "\n",
    "raw_tmp.crop(tmin = t_start, tmax = t_end)"
   ]
  },
  {
   "cell_type": "code",
   "execution_count": null,
   "metadata": {},
   "outputs": [],
   "source": [
    "# resample\n",
    "raw_tmp.resample(250)"
   ]
  },
  {
   "cell_type": "code",
   "execution_count": null,
   "metadata": {},
   "outputs": [],
   "source": [
    "ica = mne.preprocessing.ICA(n_components=0.999, random_state=13, method=\"fastica\", verbose=True)\n",
    "\n",
    "ica.fit(raw_tmp)"
   ]
  },
  {
   "cell_type": "code",
   "execution_count": null,
   "metadata": {},
   "outputs": [],
   "source": [
    "# plot results of ICA (time courses)\n",
    "ica.plot_sources(raw, start = 30)"
   ]
  },
  {
   "cell_type": "code",
   "execution_count": null,
   "metadata": {},
   "outputs": [],
   "source": [
    "# plot results of ICA (topomaps)\n",
    "ica.plot_components()"
   ]
  },
  {
   "cell_type": "code",
   "execution_count": null,
   "metadata": {},
   "outputs": [],
   "source": [
    "# determine noise components!\n",
    "noise = [0, 1]"
   ]
  },
  {
   "cell_type": "code",
   "execution_count": null,
   "metadata": {},
   "outputs": [],
   "source": [
    "# apply ICA to the raw data\n",
    "ica.exclude = noise\n",
    "ica.apply(raw)"
   ]
  },
  {
   "cell_type": "code",
   "execution_count": null,
   "metadata": {},
   "outputs": [],
   "source": [
    "raw.plot(\n",
    "    n_channels=32, \n",
    "    start=30, \n",
    "    scalings={\"eeg\": 250e-7}, # try modifying this value to make the plot more pleasant to look at \n",
    "    duration=10);"
   ]
  },
  {
   "cell_type": "code",
   "execution_count": null,
   "metadata": {},
   "outputs": [],
   "source": [
    "# Defining the threshold, we will apply it later when we are creating epochs\n",
    "reject = dict(eeg=150e-6)# 150 µV"
   ]
  },
  {
   "cell_type": "markdown",
   "metadata": {},
   "source": [
    "## 6. Epoching\n",
    "This bit requires *a bit more code* today as compared yesterday, as we are experiencing some issues with the triggers. DO NOT WORRY IF THE CODE IS SUPER CONFUSING PLS"
   ]
  },
  {
   "cell_type": "code",
   "execution_count": null,
   "metadata": {},
   "outputs": [],
   "source": [
    "# STEP 1: Locate stimulus events in the recording and save it in a variable called events\n",
    "events, _ = mne.events_from_annotations(raw, verbose=False)\n",
    "np.unique(events[:,2])"
   ]
  },
  {
   "cell_type": "code",
   "execution_count": null,
   "metadata": {},
   "outputs": [],
   "source": [
    "# load information from logfile\n",
    "logfile['lexical_category'] = logfile['lexical_category'].replace(['word', 'nonword'], [0, 2])\n",
    "logfile['prime_category'] = logfile['prime_category'].replace(['congruent', 'incongruent'], [0, 1])\n",
    "logfile['target_category'] = logfile['target_category'].replace(['practice', 'compound_first', 'basic',\n",
    "                                                                 'filler', 'abstract', 'subordinate', \n",
    "                                                                 'nontransparent_last', 'nontransparent_first', \n",
    "                                                                 'compound_last'], [90, 50, 20, 10, 80, 30,\n",
    "                                                                                   60, 70, 40])"
   ]
  },
  {
   "cell_type": "code",
   "execution_count": null,
   "metadata": {},
   "outputs": [],
   "source": [
    "# INCLUDE 3\n",
    "logfile['event'] = logfile['lexical_category'] + logfile['prime_category'] + logfile['target_category']\n",
    "\n",
    "logfile['event_rt'] = logfile['correct'].replace([1, 0], [100, 105])\n",
    "logfile['event_rt'] = logfile['event_rt'] + logfile['event']\n",
    "\n",
    "# separate time for the button presses\n",
    "logfile['event_rt_time'] = logfile['time_target'] + logfile['response_time_keyboard_response']\n"
   ]
  },
  {
   "cell_type": "code",
   "execution_count": null,
   "metadata": {},
   "outputs": [],
   "source": [
    "temp = []\n",
    "for ev, resp in zip(logfile['event'], logfile['event_rt']):\n",
    "    temp.append(ev+5)\n",
    "    temp.append(ev)\n",
    "    temp.append(resp)\n",
    "\n",
    "print(len(temp))"
   ]
  },
  {
   "cell_type": "code",
   "execution_count": null,
   "metadata": {},
   "outputs": [],
   "source": [
    "time_time = []\n",
    "\n",
    "for p, t, r in zip(logfile['time_prime_trigger'][12:], logfile['time_target_trigger'][12:], logfile['time_resp_trigger'][12:]):\n",
    "    time_time.append(p)\n",
    "    time_time.append(t)\n",
    "    time_time.append(r)\n",
    "\n",
    "print(len(time_time))"
   ]
  },
  {
   "cell_type": "code",
   "execution_count": null,
   "metadata": {},
   "outputs": [],
   "source": [
    "temp_time = []\n",
    "\n",
    "for p, t, r in zip(logfile['time_prac_prime_trigger'][:12], logfile['time_prac_target_trigger'][:12], logfile['time_prac_resp_trigger'][:12]):\n",
    "    temp_time.append(p)\n",
    "    temp_time.append(t)\n",
    "    temp_time.append(r)\n",
    "print(len(temp_time))"
   ]
  },
  {
   "cell_type": "code",
   "execution_count": null,
   "metadata": {},
   "outputs": [],
   "source": [
    "new_events = events\n",
    "temp_dif = np.append(1, np.diff(new_events[:,0])) \n",
    "tempi = np.where(temp_dif==0)[0]-1\n",
    "new_events = np.delete(new_events,tempi,0)"
   ]
  },
  {
   "cell_type": "code",
   "execution_count": null,
   "metadata": {},
   "outputs": [],
   "source": [
    "len(temp)"
   ]
  },
  {
   "cell_type": "code",
   "execution_count": null,
   "metadata": {},
   "outputs": [],
   "source": [
    "14*3"
   ]
  },
  {
   "cell_type": "code",
   "execution_count": null,
   "metadata": {},
   "outputs": [],
   "source": [
    "14*3"
   ]
  },
  {
   "cell_type": "code",
   "execution_count": null,
   "metadata": {},
   "outputs": [],
   "source": [
    "real_events = new_events\n",
    "real_events[5:14*3-1,2] = temp[:36]\n",
    "real_events[14*3:-1,2] = temp[36:]"
   ]
  },
  {
   "cell_type": "code",
   "execution_count": null,
   "metadata": {},
   "outputs": [],
   "source": [
    "# STEP 2: Create an event dictionary\n",
    "event_id = {'filler/congruent/word/target': 10, # filler word with congruent prime\n",
    "            'filler/congruent/nonword/target': 12, # filler nonword with congruent prime\n",
    "            'filler/congruent/word/correct': 110, # filler word with congruent prime - correct answer\n",
    "            'filler/congruent/word/incorrect': 115, # filler word with congruent prime - incorrect answer\n",
    "            'filler/congruent/nonword/correct': 112, # filler non-word with congruent prime - correct answer\n",
    "            'filler/congruent/nonword/incorrect': 117, # filler non-word with congruent prime - incorrect answer\n",
    "            'filler/incongruent/word/target': 11, # filler word with incongruent prime\n",
    "            'filler/incongruent/nonword/target': 13, # filler nonword with incongruent prime\n",
    "            'filler/incongruent/word/correct': 111, # filler word with incongruent prime - correct answer\n",
    "            'filler/incongruent/word/incorrect': 116, # filler word with incongruent prime - incorrect answer\n",
    "            'filler/incongruent/nonword/correct': 113, # filler non-word with incongruent prime - correct answer\n",
    "            'filler/incongruent/nonword/incorrect': 118, # filler non-word with incongruent prime - incorrect answer\n",
    "            'basic/congruent/word/target': 20, # basic-category word with congruent prime\n",
    "            'basic/congruent/nonword/target': 22, # basic-category nonword with congruent prime\n",
    "            'basic/congruent/word/correct': 120, # basic-category word with congruent prime - correct answer\n",
    "            'basic/congruent/word/incorrect': 125, # basic-category word with congruent prime - incorrect answer\n",
    "            'basic/congruent/nonword/correct': 122, # basic-category non-word with congruent prime - correct answer\n",
    "            'basic/congruent/nonword/incorrect': 127, # basic-category non-word with congruent prime - incorrect answer\n",
    "            'basic/incongruent/word/target': 21, # basic-category word with incongruent prime\n",
    "            'basic/incongruent/nonword/target': 23, # basic-category nonword with incongruent prime\n",
    "            'basic/incongruent/word/correct': 121, # basic-category word with incongruent prime - correct answer\n",
    "            'basic/incongruent/word/incorrect': 126, # basic-category word with incongruent prime - incorrect answer\n",
    "            'basic/incongruent/nonword/correct': 123, # basic-category non-word with incongruent prime - correct answer\n",
    "            'basic/incongruent/nonword/incorrect': 128, # basic-category non-word with incongruent prime - incorrect answer\n",
    "            'subordinate/congruent/word/target': 30, # subordinate word with congruent prime\n",
    "            'subordinate/congruent/nonword/target': 32, # subordinate nonword with congruent prime\n",
    "            'subordinate/congruent/word/correct': 130, # subordinate word with congruent prime - correct answer\n",
    "            'subordinate/congruent/word/incorrect': 135, # subordinate word with congruent prime - incorrect answer\n",
    "            'subordinate/congruent/nonword/correct': 132, # subordinate non-word with congruent prime - correct answer\n",
    "            'subordinate/congruent/nonword/incorrect': 137, # subordinate non-word with congruent prime - incorrect answer\n",
    "            'subordinate/incongruent/word/target': 31, # subordinate word with incongruent prime\n",
    "            'subordinate/incongruent/nonword/target': 33, # subordinate nonword with incongruent prime\n",
    "            'subordinate/incongruent/word/correct': 131, # subordinate word with incongruent prime - correct answer\n",
    "            'subordinate/incongruent/word/incorrect': 136, # subordinate word with incongruent prime - incorrect answer\n",
    "            'subordinate/incongruent/nonword/correct': 133, # subordinate non-word with incongruent prime - correct answer\n",
    "            'subordinate/incongruent/nonword/incorrect': 138, # subordinate non-word with incongruent prime - incorrect answer\n",
    "            'compoundlast/congruent/word/target': 40, # compound-last word with congruent prime\n",
    "            'compoundlast/congruent/nonword/target': 42, # compound-last nonword with congruent prime\n",
    "            'compoundlast/congruent/word/correct': 140, # compound-last word with congruent prime - correct answer\n",
    "            'compoundlast/congruent/word/incorrect': 145, # compound-last word with congruent prime - incorrect answer\n",
    "            'compoundlast/congruent/nonword/correct': 142, # compound-last non-word with congruent prime - correct answer\n",
    "            'compoundlast/congruent/nonword/incorrect': 147, # compound-last non-word with congruent prime - incorrect answer\n",
    "            'compoundlast/incongruent/word/target': 41, # compound-last word with incongruent prime\n",
    "            'compoundlast/incongruent/nonword/target': 43, # compound-last nonword with incongruent prime\n",
    "            'compoundlast/incongruent/word/correct': 141, # compound-last word with incongruent prime - correct answer\n",
    "            'compoundlast/incongruent/word/incorrect': 146, # compound-last word with incongruent prime - incorrect answer\n",
    "            'compoundlast/incongruent/nonword/correct': 143, # compound-last non-word with incongruent prime - correct answer\n",
    "            'compoundlast/incongruent/nonword/incorrect': 148, # compound-last non-word with incongruent prime - incorrect answer\n",
    "            'compoundfirst/congruent/word/target': 50, # compound-first word with congruent prime\n",
    "            'compoundfirst/congruent/nonword/target': 52, # compound-first nonword with congruent prime\n",
    "            'compoundfirst/congruent/word/correct': 150, # compound-first word with congruent prime - correct answer\n",
    "            'compoundfirst/congruent/word/incorrect': 155, # compound-first word with congruent prime - incorrect answer\n",
    "            'compoundfirst/congruent/nonword/correct': 152, # compound-first non-word with congruent prime - correct answer\n",
    "            'compoundfirst/congruent/nonword/incorrect': 157, # compound-first non-word with congruent prime - incorrect answer\n",
    "            'compoundfirst/incongruent/word/target': 51, # compound-first word with incongruent prime\n",
    "            'compoundfirst/incongruent/nonword/target': 53, # compound-first nonword with incongruent prime\n",
    "            'compoundfirst/incongruent/word/correct': 151, # compound-first word with incongruent prime - correct answer\n",
    "            'compoundfirst/incongruent/word/incorrect': 156, # compound-first word with incongruent prime - incorrect answer\n",
    "            'compoundfirst/incongruent/nonword/correct': 153, # compound-first non-word with incongruent prime - correct answer\n",
    "            'compoundfirst/incongruent/nonword/incorrect': 158, # compound-first non-word with incongruent prime - incorrect answer\n",
    "            'nontransparentlast/congruent/word/target': 60, # nontransparent compound-last word with congruent prime\n",
    "            'nontransparentlast/congruent/nonword/target': 62, # nontransparent compound-last nonword with congruent prime\n",
    "            'nontransparentlast/congruent/word/correct': 160, # nontransparent compound-last word with congruent prime - correct answer\n",
    "            'nontransparentlast/congruent/word/incorrect': 165, # nontransparent compound-last word with congruent prime - incorrect answer\n",
    "            'nontransparentlast/congruent/nonword/correct': 162, # nontransparent compound-last non-word with congruent prime - correct answer\n",
    "            'nontransparentlast/congruent/nonword/incorrect': 167, # nontransparent compound-last non-word with congruent prime - incorrect answer\n",
    "            'nontransparentlast/incongruent/word/target': 61, # nontransparent compound-last word with incongruent prime\n",
    "            'nontransparentlast/incongruent/nonword/target': 63, # nontransparent compound-last nonword with incongruent prime\n",
    "            'nontransparentlast/incongruent/word/correct': 161, # nontransparent compound-last word with incongruent prime - correct answer\n",
    "            'nontransparentlast/incongruent/word/incorrect': 166, # nontransparent compound-last word with incongruent prime - incorrect answer\n",
    "            'nontransparentlast/incongruent/nonword/correct': 163, # nontransparent compound-last non-word with incongruent prime - correct answer\n",
    "            'nontransparentlast/incongruent/nonword/incorrect': 168, # nontransparent compound-last non-word with incongruent prime - incorrect answer\n",
    "            'nontransparentfirst/congruent/word/target': 70, # nontransparent compound-first word with congruent prime\n",
    "            'nontransparentfirst/congruent/nonword/target': 72, # nontransparent compound-first nonword with congruent prime\n",
    "            'nontransparentfirst/congruent/word/correct': 170, # nontransparent compound-first word with congruent prime - correct answer\n",
    "            'nontransparentfirst/congruent/word/incorrect': 175, # nontransparent compound-first word with congruent prime - incorrect answer\n",
    "            'nontransparentfirst/congruent/nonword/correct': 172, # nontransparent compound-first non-word with congruent prime - correct answer\n",
    "            'nontransparentfirst/congruent/nonword/incorrect': 177, # nontransparent compound-first non-word with congruent prime - incorrect answer\n",
    "            'nontransparentfirst/incongruent/word/target': 71, # nontransparent compound-first word with incongruent prime\n",
    "            'nontransparentfirst/incongruent/nonword/target': 73, # nontransparent compound-first nonword with incongruent prime\n",
    "            'nontransparentfirst/incongruent/word/correct': 171, # nontransparent compound-first word with incongruent prime - correct answer\n",
    "            'nontransparentfirst/incongruent/word/incorrect': 176, # nontransparent compound-first word with incongruent prime - incorrect answer\n",
    "            'nontransparentfirst/incongruent/nonword/correct': 173, # nontransparent compound-first non-word with incongruent prime - correct answer\n",
    "            'nontransparentfirst/incongruent/nonword/incorrect': 178, # nontransparent compound-first non-word with incongruent prime - incorrect answer\n",
    "            'abstract/congruent/word/target': 80, # abstract word with congruent prime\n",
    "            'abstract/congruent/nonword/target': 82, # abstract word with congruent prime\n",
    "            'abstract/congruent/word/correct': 180, # abstract word with congruent prime - correct answer\n",
    "            'abstract/congruent/word/incorrect': 185, # abstract word with congruent prime - incorrect answer\n",
    "            'abstract/congruent/nonword/correct': 182, # abstract non-word with congruent prime - correct answer\n",
    "            'abstract/congruent/nonword/incorrect': 187, # abstract non-word with congruent prime - incorrect answer\n",
    "            'abstract/incongruent/word/target': 81, # abstract word with incongruent prime\n",
    "            'abstract/incongruent/nonword/target': 83, # abstract fumbelword with incongruent prime\n",
    "            'abstract/incongruent/word/correct': 181, # abstract word with incongruent prime - correct answer\n",
    "            'abstract/incongruent/word/incorrect': 186, # abstract word with incongruent prime - incorrect answer\n",
    "            'abstract/incongruent/nonword/correct': 183, # abstract non-word with incongruent prime - correct answer\n",
    "            'abstract/incongruent/nonword/incorrect': 188, # abstract non-word with incongruent prime - incorrect answer\n",
    "            'practice/congruent/word/target': 90, # practice word with congruent prime\n",
    "            'practice/congruent/nonword/target': 92, # practice word with congruent prime\n",
    "            'practice/congruent/word/correct': 190, # practice word with congruent prime - correct answer\n",
    "            'practice/congruent/word/incorrect': 195, # practice word with congruent prime - incorrect answer\n",
    "            'practice/congruent/nonword/correct': 192, # practice non-word with congruent prime - correct answer\n",
    "            'practice/congruent/nonword/incorrect': 197, # practice non-word with congruent prime - incorrect answer\n",
    "            'practice/incongruent/word/target': 91, # practice word with incongruent prime\n",
    "            'practice/incongruent/nonword/target': 93,                                  # practice word with congruent prime\n",
    "            'practice/incongruent/word/correct': 191, # practice word with incongruent prime - correct answer\n",
    "            'practice/incongruent/word/incorrect': 196, # practice word with incongruent prime - incorrect answer\n",
    "            'practice/incongruent/nonword/correct': 193, # practice non-word with incongruent prime - correct answer\n",
    "            'practice/incongruent/nonword/incorrect': 198 # practice non-word with incongruent prime - incorrect answer\n",
    "           }"
   ]
  },
  {
   "cell_type": "code",
   "execution_count": null,
   "metadata": {},
   "outputs": [],
   "source": [
    "# modify event id so we only have triggers from our data so we do not get an error when we are trying to run \n",
    "triggers_unique = np.unique(real_events[:, 2])\n",
    "\n",
    "# Create a new dictionary for the selected triggers\n",
    "updated_event_ids = {}\n",
    "\n",
    "# Iterate through the event_id dictionary\n",
    "for key, value in event_id.items():\n",
    "    if value in triggers_unique:\n",
    "        updated_event_ids[key] = value\n",
    "\n",
    "print(updated_event_ids)\n"
   ]
  },
  {
   "cell_type": "code",
   "execution_count": null,
   "metadata": {},
   "outputs": [],
   "source": [
    "# STEP 3: establish a time window for epochs\n",
    "tmin = -0.2\n",
    "tmax = 1"
   ]
  },
  {
   "cell_type": "code",
   "execution_count": null,
   "metadata": {},
   "outputs": [],
   "source": [
    "# STEP 4: Create the epochs\n",
    "epochs = mne.Epochs(\n",
    "    raw, \n",
    "    real_events,\n",
    "    event_id = updated_event_ids, \n",
    "    tmin = tmin, \n",
    "    tmax = tmax, \n",
    "    picks=[\"eeg\"],\n",
    "    baseline=(None, 0), \n",
    "    reject=reject, \n",
    "    preload=True\n",
    "    )"
   ]
  },
  {
   "cell_type": "markdown",
   "metadata": {},
   "source": [
    "**At this point call Laura over to have a look!**"
   ]
  },
  {
   "cell_type": "markdown",
   "metadata": {},
   "source": [
    "## 7. Downsampling"
   ]
  },
  {
   "cell_type": "code",
   "execution_count": null,
   "metadata": {},
   "outputs": [],
   "source": [
    "# STEP 1: Downsample to 250 Hz"
   ]
  },
  {
   "cell_type": "markdown",
   "metadata": {},
   "source": [
    "# Analysis\n",
    "Using the logic from yesterdays class try and come up with different trial types that would be interesting to compare and contrast"
   ]
  }
 ],
 "metadata": {
  "kernelspec": {
   "display_name": "env",
   "language": "python",
   "name": "env"
  },
  "language_info": {
   "codemirror_mode": {
    "name": "ipython",
    "version": 3
   },
   "file_extension": ".py",
   "mimetype": "text/x-python",
   "name": "python",
   "nbconvert_exporter": "python",
   "pygments_lexer": "ipython3",
   "version": "3.10.12"
  },
  "orig_nbformat": 4
 },
 "nbformat": 4,
 "nbformat_minor": 2
}
