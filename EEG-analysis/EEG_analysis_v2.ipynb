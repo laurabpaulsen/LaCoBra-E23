{
 "cells": [
  {
   "cell_type": "markdown",
   "metadata": {},
   "source": [
    "# Lexical Decision Task\n",
    "Today we will try to apply the general EEG preprocessing pipeline from the MNE tutorial and the faceWord-experiment to the EEG data from the lexical decision task.\n"
   ]
  },
  {
   "cell_type": "markdown",
   "metadata": {},
   "source": [
    "#### Setting up Python\n",
    "Before starting to analyse our own EEG data, we need to make sure we have our virtual environment we created during the `MNE-tutorial`.\n",
    "\n",
    "1. Press `Select Kernel`, then `Python Environments...` and then choose any Python kernel. \n",
    "2. Run the code chunk below\n",
    "3. Change the kernel used to run the code in this notebook. Press where it says `Python X.XX.XX` in the top right corner, then `Select Another Kernel`, then `Jupyter kernel...` and then select `env`. If `env` does not show up, press the little refresh symbol! "
   ]
  },
  {
   "cell_type": "code",
   "execution_count": null,
   "metadata": {},
   "outputs": [],
   "source": [
    "!bash ../env_to_ipynb_kernel.sh"
   ]
  },
  {
   "cell_type": "markdown",
   "metadata": {},
   "source": [
    "# Analysis of EEG data collected!\n",
    "The workflow of preprocessing is as follows!\n",
    "1. Load the data\n",
    "2. Exclude bad channels\n",
    "3. Common average reference\n",
    "4. Filtering\n",
    "5. Artefact rejection\n",
    "6. Epoching\n",
    "7. Downsampling\n",
    "\n",
    "This is the same workflow as in the `preprocessing_tutorial.ipynb`. This notebook serves as a \"skeleton\" where you fill out the code you need. All code bits needed can be found in the notebook from the last class. "
   ]
  },
  {
   "cell_type": "markdown",
   "metadata": {},
   "source": [
    "<div class=\"alert alert-block alert-info\"><b>Tip:</b>\n",
    "The MNE package has some really nice documentation! If you have any questions on how to use a function or if you want to see other ways you can plot your data, have a look at it! \n",
    "\n",
    "https://mne.tools/stable/index.html"
   ]
  },
  {
   "cell_type": "code",
   "execution_count": 1,
   "metadata": {},
   "outputs": [
    {
     "name": "stdout",
     "output_type": "stream",
     "text": [
      "Requirement already satisfied: pandas in /work/LauraBockPaulsen#1941/LaCoBra-E23/env/lib/python3.10/site-packages (2.1.1)\n",
      "Requirement already satisfied: pytz>=2020.1 in /work/LauraBockPaulsen#1941/LaCoBra-E23/env/lib/python3.10/site-packages (from pandas) (2023.3.post1)\n",
      "Requirement already satisfied: python-dateutil>=2.8.2 in /work/LauraBockPaulsen#1941/LaCoBra-E23/env/lib/python3.10/site-packages (from pandas) (2.8.2)\n",
      "Requirement already satisfied: tzdata>=2022.1 in /work/LauraBockPaulsen#1941/LaCoBra-E23/env/lib/python3.10/site-packages (from pandas) (2023.3)\n",
      "Requirement already satisfied: numpy>=1.22.4 in /work/LauraBockPaulsen#1941/LaCoBra-E23/env/lib/python3.10/site-packages (from pandas) (1.26.0)\n",
      "Requirement already satisfied: six>=1.5 in /work/LauraBockPaulsen#1941/LaCoBra-E23/env/lib/python3.10/site-packages (from python-dateutil>=2.8.2->pandas) (1.16.0)\n"
     ]
    }
   ],
   "source": [
    "import mne\n",
    "import os\n",
    "import matplotlib\n",
    "import numpy as np\n",
    "\n",
    "!pip install pandas\n",
    "import pandas as pd\n",
    "\n",
    "%matplotlib inline"
   ]
  },
  {
   "cell_type": "markdown",
   "metadata": {},
   "source": [
    "## 1. Load the data\n",
    "As we are no longer using sample data from MNE, the process of loading the data will be a bit different. Therefore, code to help you is provided here!"
   ]
  },
  {
   "cell_type": "code",
   "execution_count": 2,
   "metadata": {},
   "outputs": [
    {
     "name": "stdout",
     "output_type": "stream",
     "text": [
      "Extracting parameters from /work/811462/group5.vhdr...\n",
      "Setting channel info structure...\n",
      "Reading 0 ... 298099  =      0.000 ...   298.099 secs...\n"
     ]
    },
    {
     "data": {
      "text/html": [
       "<table class=\"table table-hover table-striped table-sm table-responsive small\">\n",
       "    <tr>\n",
       "        <th>Measurement date</th>\n",
       "        \n",
       "        <td>October 10, 2023  11:15:47 GMT</td>\n",
       "        \n",
       "    </tr>\n",
       "    <tr>\n",
       "        <th>Experimenter</th>\n",
       "        \n",
       "        <td>Unknown</td>\n",
       "        \n",
       "    </tr>\n",
       "        <th>Participant</th>\n",
       "        \n",
       "        <td>Unknown</td>\n",
       "        \n",
       "    </tr>\n",
       "    <tr>\n",
       "        <th>Digitized points</th>\n",
       "        \n",
       "        <td>34 points</td>\n",
       "        \n",
       "    </tr>\n",
       "    <tr>\n",
       "        <th>Good channels</th>\n",
       "        <td>31 EEG</td>\n",
       "    </tr>\n",
       "    <tr>\n",
       "        <th>Bad channels</th>\n",
       "        <td>None</td>\n",
       "    </tr>\n",
       "    <tr>\n",
       "        <th>EOG channels</th>\n",
       "        <td>Not available</td>\n",
       "    </tr>\n",
       "    <tr>\n",
       "        <th>ECG channels</th>\n",
       "        <td>Not available</td>\n",
       "    \n",
       "    <tr>\n",
       "        <th>Sampling frequency</th>\n",
       "        <td>1000.00 Hz</td>\n",
       "    </tr>\n",
       "    \n",
       "    \n",
       "    <tr>\n",
       "        <th>Highpass</th>\n",
       "        <td>0.00 Hz</td>\n",
       "    </tr>\n",
       "    \n",
       "    \n",
       "    <tr>\n",
       "        <th>Lowpass</th>\n",
       "        <td>280.00 Hz</td>\n",
       "    </tr>\n",
       "    \n",
       "    \n",
       "    \n",
       "    <tr>\n",
       "        <th>Filenames</th>\n",
       "        <td>group5.eeg</td>\n",
       "    </tr>\n",
       "    \n",
       "    <tr>\n",
       "        <th>Duration</th>\n",
       "        <td>00:04:59 (HH:MM:SS)</td>\n",
       "    </tr>\n",
       "</table>"
      ],
      "text/plain": [
       "<RawBrainVision | group5.eeg, 31 x 298100 (298.1 s), ~70.6 MB, data loaded>"
      ]
     },
     "execution_count": 2,
     "metadata": {},
     "output_type": "execute_result"
    }
   ],
   "source": [
    "# reading the file & loading in the data\n",
    "data_folder = '/work/811462/'\n",
    "group_name = \"group5\"\n",
    "\n",
    "# path to the data - MAKE SURE TO CHANGE PATH ACCORDING TO YOUR GROUP NUMBER!\n",
    "data_path = os.path.join(data_folder, f\"{group_name}.vhdr\")\n",
    "\n",
    "raw = mne.io.read_raw_brainvision(data_path)\n",
    "raw.load_data()\n",
    "\n",
    "# set standard montage (let MNE know the layout of the electrodes on the cap)\n",
    "montage = mne.channels.make_standard_montage('standard_1020')\n",
    "raw.set_montage(montage, verbose=False)"
   ]
  },
  {
   "cell_type": "code",
   "execution_count": 3,
   "metadata": {},
   "outputs": [
    {
     "data": {
      "text/html": [
       "<div>\n",
       "<style scoped>\n",
       "    .dataframe tbody tr th:only-of-type {\n",
       "        vertical-align: middle;\n",
       "    }\n",
       "\n",
       "    .dataframe tbody tr th {\n",
       "        vertical-align: top;\n",
       "    }\n",
       "\n",
       "    .dataframe thead th {\n",
       "        text-align: right;\n",
       "    }\n",
       "</style>\n",
       "<table border=\"1\" class=\"dataframe\">\n",
       "  <thead>\n",
       "    <tr style=\"text-align: right;\">\n",
       "      <th></th>\n",
       "      <th>acc</th>\n",
       "      <th>accuracy</th>\n",
       "      <th>average_response_time</th>\n",
       "      <th>avg_rt</th>\n",
       "      <th>background</th>\n",
       "      <th>canvas_backend</th>\n",
       "      <th>clock_backend</th>\n",
       "      <th>color_backend</th>\n",
       "      <th>compensation</th>\n",
       "      <th>coordinates</th>\n",
       "      <th>...</th>\n",
       "      <th>time_target_trigger</th>\n",
       "      <th>time_trial_sequence</th>\n",
       "      <th>title</th>\n",
       "      <th>total_correct</th>\n",
       "      <th>total_response_time</th>\n",
       "      <th>total_responses</th>\n",
       "      <th>trigger_interval</th>\n",
       "      <th>uniform_coordinates</th>\n",
       "      <th>width</th>\n",
       "      <th>word_response</th>\n",
       "    </tr>\n",
       "  </thead>\n",
       "  <tbody>\n",
       "    <tr>\n",
       "      <th>0</th>\n",
       "      <td>100</td>\n",
       "      <td>100</td>\n",
       "      <td>442.112301</td>\n",
       "      <td>442.112301</td>\n",
       "      <td>black</td>\n",
       "      <td>psycho</td>\n",
       "      <td>psycho</td>\n",
       "      <td>psycho</td>\n",
       "      <td>0</td>\n",
       "      <td>uniform</td>\n",
       "      <td>...</td>\n",
       "      <td>NaN</td>\n",
       "      <td>NaN</td>\n",
       "      <td>Lexical decision task</td>\n",
       "      <td>1</td>\n",
       "      <td>442.112301</td>\n",
       "      <td>1</td>\n",
       "      <td>5</td>\n",
       "      <td>yes</td>\n",
       "      <td>1024</td>\n",
       "      <td>z</td>\n",
       "    </tr>\n",
       "    <tr>\n",
       "      <th>1</th>\n",
       "      <td>100</td>\n",
       "      <td>100</td>\n",
       "      <td>1035.682198</td>\n",
       "      <td>1035.682198</td>\n",
       "      <td>black</td>\n",
       "      <td>psycho</td>\n",
       "      <td>psycho</td>\n",
       "      <td>psycho</td>\n",
       "      <td>0</td>\n",
       "      <td>uniform</td>\n",
       "      <td>...</td>\n",
       "      <td>NaN</td>\n",
       "      <td>NaN</td>\n",
       "      <td>Lexical decision task</td>\n",
       "      <td>1</td>\n",
       "      <td>1035.682198</td>\n",
       "      <td>1</td>\n",
       "      <td>5</td>\n",
       "      <td>yes</td>\n",
       "      <td>1024</td>\n",
       "      <td>z</td>\n",
       "    </tr>\n",
       "    <tr>\n",
       "      <th>2</th>\n",
       "      <td>0</td>\n",
       "      <td>0</td>\n",
       "      <td>2000.023000</td>\n",
       "      <td>2000.023000</td>\n",
       "      <td>black</td>\n",
       "      <td>psycho</td>\n",
       "      <td>psycho</td>\n",
       "      <td>psycho</td>\n",
       "      <td>0</td>\n",
       "      <td>uniform</td>\n",
       "      <td>...</td>\n",
       "      <td>NaN</td>\n",
       "      <td>NaN</td>\n",
       "      <td>Lexical decision task</td>\n",
       "      <td>0</td>\n",
       "      <td>2000.023000</td>\n",
       "      <td>1</td>\n",
       "      <td>5</td>\n",
       "      <td>yes</td>\n",
       "      <td>1024</td>\n",
       "      <td>z</td>\n",
       "    </tr>\n",
       "    <tr>\n",
       "      <th>3</th>\n",
       "      <td>100</td>\n",
       "      <td>100</td>\n",
       "      <td>1036.917400</td>\n",
       "      <td>1036.917400</td>\n",
       "      <td>black</td>\n",
       "      <td>psycho</td>\n",
       "      <td>psycho</td>\n",
       "      <td>psycho</td>\n",
       "      <td>0</td>\n",
       "      <td>uniform</td>\n",
       "      <td>...</td>\n",
       "      <td>NaN</td>\n",
       "      <td>NaN</td>\n",
       "      <td>Lexical decision task</td>\n",
       "      <td>1</td>\n",
       "      <td>1036.917400</td>\n",
       "      <td>1</td>\n",
       "      <td>5</td>\n",
       "      <td>yes</td>\n",
       "      <td>1024</td>\n",
       "      <td>z</td>\n",
       "    </tr>\n",
       "    <tr>\n",
       "      <th>4</th>\n",
       "      <td>100</td>\n",
       "      <td>100</td>\n",
       "      <td>1284.172900</td>\n",
       "      <td>1284.172900</td>\n",
       "      <td>black</td>\n",
       "      <td>psycho</td>\n",
       "      <td>psycho</td>\n",
       "      <td>psycho</td>\n",
       "      <td>0</td>\n",
       "      <td>uniform</td>\n",
       "      <td>...</td>\n",
       "      <td>NaN</td>\n",
       "      <td>NaN</td>\n",
       "      <td>Lexical decision task</td>\n",
       "      <td>1</td>\n",
       "      <td>1284.172900</td>\n",
       "      <td>1</td>\n",
       "      <td>5</td>\n",
       "      <td>yes</td>\n",
       "      <td>1024</td>\n",
       "      <td>z</td>\n",
       "    </tr>\n",
       "  </tbody>\n",
       "</table>\n",
       "<p>5 rows × 176 columns</p>\n",
       "</div>"
      ],
      "text/plain": [
       "   acc  accuracy  average_response_time       avg_rt background  \\\n",
       "0  100       100             442.112301   442.112301      black   \n",
       "1  100       100            1035.682198  1035.682198      black   \n",
       "2    0         0            2000.023000  2000.023000      black   \n",
       "3  100       100            1036.917400  1036.917400      black   \n",
       "4  100       100            1284.172900  1284.172900      black   \n",
       "\n",
       "  canvas_backend clock_backend color_backend  compensation coordinates  ...  \\\n",
       "0         psycho        psycho        psycho             0     uniform  ...   \n",
       "1         psycho        psycho        psycho             0     uniform  ...   \n",
       "2         psycho        psycho        psycho             0     uniform  ...   \n",
       "3         psycho        psycho        psycho             0     uniform  ...   \n",
       "4         psycho        psycho        psycho             0     uniform  ...   \n",
       "\n",
       "   time_target_trigger time_trial_sequence                  title  \\\n",
       "0                  NaN                 NaN  Lexical decision task   \n",
       "1                  NaN                 NaN  Lexical decision task   \n",
       "2                  NaN                 NaN  Lexical decision task   \n",
       "3                  NaN                 NaN  Lexical decision task   \n",
       "4                  NaN                 NaN  Lexical decision task   \n",
       "\n",
       "   total_correct total_response_time  total_responses  trigger_interval  \\\n",
       "0              1          442.112301                1                 5   \n",
       "1              1         1035.682198                1                 5   \n",
       "2              0         2000.023000                1                 5   \n",
       "3              1         1036.917400                1                 5   \n",
       "4              1         1284.172900                1                 5   \n",
       "\n",
       "   uniform_coordinates  width  word_response  \n",
       "0                  yes   1024              z  \n",
       "1                  yes   1024              z  \n",
       "2                  yes   1024              z  \n",
       "3                  yes   1024              z  \n",
       "4                  yes   1024              z  \n",
       "\n",
       "[5 rows x 176 columns]"
      ]
     },
     "execution_count": 3,
     "metadata": {},
     "output_type": "execute_result"
    }
   ],
   "source": [
    "# reading in the csv file with experiment information\n",
    "logfile = pd.read_csv(os.path.join(data_folder, f\"subject-{group_name[-1]}.csv\"))\n",
    "logfile.head()"
   ]
  },
  {
   "cell_type": "markdown",
   "metadata": {},
   "source": [
    "### Plotting the sensor layout!\n",
    "Now lets plot the layout of the channels and see if it matches what you remember from making the recordings!"
   ]
  },
  {
   "cell_type": "code",
   "execution_count": 4,
   "metadata": {},
   "outputs": [
    {
     "data": {
      "image/png": "[encoded data removed]",
      "text/plain": [
       "<Figure size 640x640 with 1 Axes>"
      ]
     },
     "metadata": {},
     "output_type": "display_data"
    }
   ],
   "source": [
    "raw.plot_sensors(show_names=True);"
   ]
  },
  {
   "cell_type": "markdown",
   "metadata": {},
   "source": [
    "## 2. Exclude bad channels"
   ]
  },
  {
   "cell_type": "code",
   "execution_count": 5,
   "metadata": {},
   "outputs": [
    {
     "name": "stdout",
     "output_type": "stream",
     "text": [
      "Filtering raw data in 1 contiguous segment\n",
      "Setting up low-pass filter at 40 Hz\n",
      "\n",
      "FIR filter parameters\n",
      "---------------------\n",
      "Designing a one-pass, zero-phase, non-causal lowpass filter:\n",
      "- Windowed time-domain design (firwin) method\n",
      "- Hamming window with 0.0194 passband ripple and 53 dB stopband attenuation\n",
      "- Upper passband edge: 40.00 Hz\n",
      "- Upper transition bandwidth: 10.00 Hz (-6 dB cutoff frequency: 45.00 Hz)\n",
      "- Filter length: 331 samples (0.331 s)\n",
      "\n"
     ]
    },
    {
     "name": "stderr",
     "output_type": "stream",
     "text": [
      "[Parallel(n_jobs=1)]: Done  17 tasks      | elapsed:    0.2s\n"
     ]
    },
    {
     "name": "stdout",
     "output_type": "stream",
     "text": [
      "Filtering raw data in 1 contiguous segment\n",
      "Setting up high-pass filter at 0.1 Hz\n",
      "\n",
      "FIR filter parameters\n",
      "---------------------\n",
      "Designing a one-pass, zero-phase, non-causal highpass filter:\n",
      "- Windowed time-domain design (firwin) method\n",
      "- Hamming window with 0.0194 passband ripple and 53 dB stopband attenuation\n",
      "- Lower passband edge: 0.10\n",
      "- Lower transition bandwidth: 0.10 Hz (-6 dB cutoff frequency: 0.05 Hz)\n",
      "- Filter length: 33001 samples (33.001 s)\n",
      "\n"
     ]
    },
    {
     "name": "stderr",
     "output_type": "stream",
     "text": [
      "[Parallel(n_jobs=1)]: Done  17 tasks      | elapsed:    0.3s\n"
     ]
    },
    {
     "data": {
      "text/html": [
       "<table class=\"table table-hover table-striped table-sm table-responsive small\">\n",
       "    <tr>\n",
       "        <th>Measurement date</th>\n",
       "        \n",
       "        <td>October 10, 2023  11:15:47 GMT</td>\n",
       "        \n",
       "    </tr>\n",
       "    <tr>\n",
       "        <th>Experimenter</th>\n",
       "        \n",
       "        <td>Unknown</td>\n",
       "        \n",
       "    </tr>\n",
       "        <th>Participant</th>\n",
       "        \n",
       "        <td>Unknown</td>\n",
       "        \n",
       "    </tr>\n",
       "    <tr>\n",
       "        <th>Digitized points</th>\n",
       "        \n",
       "        <td>34 points</td>\n",
       "        \n",
       "    </tr>\n",
       "    <tr>\n",
       "        <th>Good channels</th>\n",
       "        <td>31 EEG</td>\n",
       "    </tr>\n",
       "    <tr>\n",
       "        <th>Bad channels</th>\n",
       "        <td>None</td>\n",
       "    </tr>\n",
       "    <tr>\n",
       "        <th>EOG channels</th>\n",
       "        <td>Not available</td>\n",
       "    </tr>\n",
       "    <tr>\n",
       "        <th>ECG channels</th>\n",
       "        <td>Not available</td>\n",
       "    \n",
       "    <tr>\n",
       "        <th>Sampling frequency</th>\n",
       "        <td>1000.00 Hz</td>\n",
       "    </tr>\n",
       "    \n",
       "    \n",
       "    <tr>\n",
       "        <th>Highpass</th>\n",
       "        <td>0.10 Hz</td>\n",
       "    </tr>\n",
       "    \n",
       "    \n",
       "    <tr>\n",
       "        <th>Lowpass</th>\n",
       "        <td>40.00 Hz</td>\n",
       "    </tr>\n",
       "    \n",
       "    \n",
       "    \n",
       "    <tr>\n",
       "        <th>Filenames</th>\n",
       "        <td>group5.eeg</td>\n",
       "    </tr>\n",
       "    \n",
       "    <tr>\n",
       "        <th>Duration</th>\n",
       "        <td>00:04:59 (HH:MM:SS)</td>\n",
       "    </tr>\n",
       "</table>"
      ],
      "text/plain": [
       "<RawBrainVision | group5.eeg, 31 x 298100 (298.1 s), ~70.6 MB, data loaded>"
      ]
     },
     "execution_count": 5,
     "metadata": {},
     "output_type": "execute_result"
    }
   ],
   "source": [
    "# sometimes filtering before plotting the channels can make it more nice to look at as we are getting rid of some noise!\n",
    "# BUT IF YOU FILTER HERE NO NEED TO DO IT FURTHER ALONG :D\n",
    "\n",
    "raw.filter(None, 40)\n",
    "raw.filter(0.1, None)"
   ]
  },
  {
   "cell_type": "code",
   "execution_count": null,
   "metadata": {},
   "outputs": [],
   "source": [
    "# STEP 1: Plot the raw data to help you identify bad channels\n",
    "raw.plot(\n",
    "    n_channels=32, \n",
    "    start=100, \n",
    "    scalings={\"eeg\": 250e-7}, # try modifying this value to make the plot more pleasant to look at \n",
    "    duration=10);"
   ]
  },
  {
   "cell_type": "code",
   "execution_count": null,
   "metadata": {},
   "outputs": [],
   "source": [
    "# STEP 2: Mark bad channels as bad if there are any!"
   ]
  },
  {
   "cell_type": "code",
   "execution_count": null,
   "metadata": {},
   "outputs": [],
   "source": [
    "# STEP 3: Remove the bad channels"
   ]
  },
  {
   "cell_type": "markdown",
   "metadata": {},
   "source": [
    "## 3. Common average reference"
   ]
  },
  {
   "cell_type": "code",
   "execution_count": 6,
   "metadata": {},
   "outputs": [
    {
     "name": "stdout",
     "output_type": "stream",
     "text": [
      "EEG channel type selected for re-referencing\n",
      "Adding average EEG reference projection.\n",
      "1 projection items deactivated\n",
      "Average reference projection was added, but has not been applied yet. Use the apply_proj method to apply it.\n",
      "Created an SSP operator (subspace dimension = 1)\n",
      "1 projection items activated\n",
      "SSP projectors applied...\n"
     ]
    },
    {
     "data": {
      "text/html": [
       "<table class=\"table table-hover table-striped table-sm table-responsive small\">\n",
       "    <tr>\n",
       "        <th>Measurement date</th>\n",
       "        \n",
       "        <td>October 10, 2023  11:15:47 GMT</td>\n",
       "        \n",
       "    </tr>\n",
       "    <tr>\n",
       "        <th>Experimenter</th>\n",
       "        \n",
       "        <td>Unknown</td>\n",
       "        \n",
       "    </tr>\n",
       "        <th>Participant</th>\n",
       "        \n",
       "        <td>Unknown</td>\n",
       "        \n",
       "    </tr>\n",
       "    <tr>\n",
       "        <th>Digitized points</th>\n",
       "        \n",
       "        <td>34 points</td>\n",
       "        \n",
       "    </tr>\n",
       "    <tr>\n",
       "        <th>Good channels</th>\n",
       "        <td>31 EEG</td>\n",
       "    </tr>\n",
       "    <tr>\n",
       "        <th>Bad channels</th>\n",
       "        <td>None</td>\n",
       "    </tr>\n",
       "    <tr>\n",
       "        <th>EOG channels</th>\n",
       "        <td>Not available</td>\n",
       "    </tr>\n",
       "    <tr>\n",
       "        <th>ECG channels</th>\n",
       "        <td>Not available</td>\n",
       "    \n",
       "    <tr>\n",
       "        <th>Sampling frequency</th>\n",
       "        <td>1000.00 Hz</td>\n",
       "    </tr>\n",
       "    \n",
       "    \n",
       "    <tr>\n",
       "        <th>Highpass</th>\n",
       "        <td>0.10 Hz</td>\n",
       "    </tr>\n",
       "    \n",
       "    \n",
       "    <tr>\n",
       "        <th>Lowpass</th>\n",
       "        <td>40.00 Hz</td>\n",
       "    </tr>\n",
       "    \n",
       "    \n",
       "    <tr>\n",
       "        <th>Projections</th>\n",
       "        <td>Average EEG reference : on</td>\n",
       "    </tr>\n",
       "    \n",
       "    \n",
       "    <tr>\n",
       "        <th>Filenames</th>\n",
       "        <td>group5.eeg</td>\n",
       "    </tr>\n",
       "    \n",
       "    <tr>\n",
       "        <th>Duration</th>\n",
       "        <td>00:04:59 (HH:MM:SS)</td>\n",
       "    </tr>\n",
       "</table>"
      ],
      "text/plain": [
       "<RawBrainVision | group5.eeg, 31 x 298100 (298.1 s), ~70.6 MB, data loaded>"
      ]
     },
     "execution_count": 6,
     "metadata": {},
     "output_type": "execute_result"
    }
   ],
   "source": [
    "# STEP 1: Choose the common average reference\n",
    "raw.set_eeg_reference('average', projection=True)\n",
    "\n",
    "# STEP 2: applying the reference to the data\n",
    "raw.apply_proj()"
   ]
  },
  {
   "cell_type": "markdown",
   "metadata": {},
   "source": [
    "## 4. Filtering"
   ]
  },
  {
   "cell_type": "code",
   "execution_count": null,
   "metadata": {},
   "outputs": [],
   "source": [
    "# STEP 1: high-pass filtering the data at 0.1 Hz\n",
    "\n",
    "# STEP 2: low-pass filtering at 40 Hz\n",
    "\n",
    "# STEP 3: plot the filtered data for inspection"
   ]
  },
  {
   "cell_type": "markdown",
   "metadata": {},
   "source": [
    "## 5. Artefact rejection"
   ]
  },
  {
   "cell_type": "markdown",
   "metadata": {},
   "source": [
    "### ICA"
   ]
  },
  {
   "cell_type": "code",
   "execution_count": 7,
   "metadata": {},
   "outputs": [],
   "source": [
    "# making a copy of the data set\n",
    "raw_tmp = raw.copy()"
   ]
  },
  {
   "cell_type": "code",
   "execution_count": null,
   "metadata": {},
   "outputs": [],
   "source": [
    "# band pass filter! \n",
    "raw_tmp.filter(l_freq=1, h_freq=40)\n",
    "\n",
    "raw_tmp.plot(\n",
    "    n_channels=32, \n",
    "    start=0, \n",
    "    scalings={\"eeg\": 250e-7}, # try modifying this value to make the plot more pleasant to look at \n",
    "    duration=10);"
   ]
  },
  {
   "cell_type": "code",
   "execution_count": null,
   "metadata": {},
   "outputs": [],
   "source": [
    "# cropping the data\n",
    "t_start = 10\n",
    "t_end = 205\n",
    "\n",
    "raw_tmp.crop(tmin = t_start, tmax = t_end)"
   ]
  },
  {
   "cell_type": "code",
   "execution_count": null,
   "metadata": {},
   "outputs": [],
   "source": [
    "# resample\n",
    "raw_tmp.resample(250)"
   ]
  },
  {
   "cell_type": "code",
   "execution_count": null,
   "metadata": {},
   "outputs": [],
   "source": [
    "ica = mne.preprocessing.ICA(n_components=0.999, random_state=13, method=\"fastica\", verbose=True)\n",
    "\n",
    "ica.fit(raw_tmp)"
   ]
  },
  {
   "cell_type": "code",
   "execution_count": null,
   "metadata": {},
   "outputs": [],
   "source": [
    "# plot results of ICA (time courses)\n",
    "ica.plot_sources(raw, start = 30)"
   ]
  },
  {
   "cell_type": "code",
   "execution_count": null,
   "metadata": {},
   "outputs": [],
   "source": [
    "# plot results of ICA (topomaps)\n",
    "ica.plot_components()"
   ]
  },
  {
   "cell_type": "code",
   "execution_count": null,
   "metadata": {},
   "outputs": [],
   "source": [
    "# determine noise components!\n",
    "noise = [0, 1]"
   ]
  },
  {
   "cell_type": "code",
   "execution_count": null,
   "metadata": {},
   "outputs": [],
   "source": [
    "# apply ICA to the raw data\n",
    "ica.exclude = noise\n",
    "ica.apply(raw)"
   ]
  },
  {
   "cell_type": "code",
   "execution_count": null,
   "metadata": {},
   "outputs": [],
   "source": [
    "raw.plot(\n",
    "    n_channels=32, \n",
    "    start=30, \n",
    "    scalings={\"eeg\": 250e-7}, # try modifying this value to make the plot more pleasant to look at \n",
    "    duration=10);"
   ]
  },
  {
   "cell_type": "code",
   "execution_count": 8,
   "metadata": {},
   "outputs": [],
   "source": [
    "# Defining the threshold, we will apply it later when we are creating epochs\n",
    "reject = dict(eeg=150e-6)# 150 µV"
   ]
  },
  {
   "cell_type": "markdown",
   "metadata": {},
   "source": [
    "## 6. Epoching\n",
    "This bit requires *a bit more code* today as compared yesterday, as we are experiencing some issues with the triggers. DO NOT WORRY IF THE CODE IS SUPER CONFUSING PLS"
   ]
  },
  {
   "cell_type": "code",
   "execution_count": 9,
   "metadata": {},
   "outputs": [
    {
     "data": {
      "text/plain": [
       "array([    1,     2,     3,     4,     5,     6,     7,     8,     9,\n",
       "          10,    11,    12,    13,    14,    15,  1001,  1002,  1003,\n",
       "        1004,  1005,  1006,  1007,  1008,  1009,  1010,  1011,  1012,\n",
       "        1013, 99999])"
      ]
     },
     "execution_count": 9,
     "metadata": {},
     "output_type": "execute_result"
    }
   ],
   "source": [
    "# STEP 1: Locate stimulus events in the recording and save it in a variable called events\n",
    "events, _ = mne.events_from_annotations(raw, verbose=False)\n",
    "np.unique(events[:,2])"
   ]
  },
  {
   "cell_type": "code",
   "execution_count": 10,
   "metadata": {},
   "outputs": [],
   "source": [
    "# load information from logfile\n",
    "logfile['lexical_category'] = logfile['lexical_category'].replace(['word', 'nonword'], [0, 2])\n",
    "logfile['prime_category'] = logfile['prime_category'].replace(['congruent', 'incongruent'], [0, 1])\n",
    "logfile['target_category'] = logfile['target_category'].replace(['practice', 'compound_first', 'basic',\n",
    "                                                                 'filler', 'abstract', 'subordinate', \n",
    "                                                                 'nontransparent_last', 'nontransparent_first', \n",
    "                                                                 'compound_last'], [90, 50, 20, 10, 80, 30,\n",
    "                                                                                   60, 70, 40])"
   ]
  },
  {
   "cell_type": "code",
   "execution_count": 11,
   "metadata": {},
   "outputs": [],
   "source": [
    "# INCLUDE 3\n",
    "logfile['event'] = logfile['lexical_category'] + logfile['prime_category'] + logfile['target_category']\n",
    "\n",
    "logfile['event_rt'] = logfile['correct'].replace([1, 0], [100, 105])\n",
    "logfile['event_rt'] = logfile['event_rt'] + logfile['event']\n",
    "\n",
    "# separate time for the button presses\n",
    "logfile['event_rt_time'] = logfile['time_target'] + logfile['response_time_keyboard_response']\n"
   ]
  },
  {
   "cell_type": "code",
   "execution_count": 12,
   "metadata": {},
   "outputs": [
    {
     "name": "stdout",
     "output_type": "stream",
     "text": [
      "219\n"
     ]
    }
   ],
   "source": [
    "temp = []\n",
    "for ev, resp in zip(logfile['event'], logfile['event_rt']):\n",
    "    temp.append(ev+5)\n",
    "    temp.append(ev)\n",
    "    temp.append(resp)\n",
    "\n",
    "print(len(temp))"
   ]
  },
  {
   "cell_type": "code",
   "execution_count": 13,
   "metadata": {},
   "outputs": [
    {
     "name": "stdout",
     "output_type": "stream",
     "text": [
      "183\n"
     ]
    }
   ],
   "source": [
    "time_time = []\n",
    "\n",
    "for p, t, r in zip(logfile['time_prime_trigger'][12:], logfile['time_target_trigger'][12:], logfile['time_resp_trigger'][12:]):\n",
    "    time_time.append(p)\n",
    "    time_time.append(t)\n",
    "    time_time.append(r)\n",
    "\n",
    "print(len(time_time))"
   ]
  },
  {
   "cell_type": "code",
   "execution_count": 14,
   "metadata": {},
   "outputs": [
    {
     "name": "stdout",
     "output_type": "stream",
     "text": [
      "36\n"
     ]
    }
   ],
   "source": [
    "temp_time = []\n",
    "\n",
    "for p, t, r in zip(logfile['time_prac_prime_trigger'][:12], logfile['time_prac_target_trigger'][:12], logfile['time_prac_resp_trigger'][:12]):\n",
    "    temp_time.append(p)\n",
    "    temp_time.append(t)\n",
    "    temp_time.append(r)\n",
    "print(len(temp_time))"
   ]
  },
  {
   "cell_type": "code",
   "execution_count": 15,
   "metadata": {},
   "outputs": [],
   "source": [
    "new_events = events\n",
    "temp_dif = np.append(1, np.diff(new_events[:,0])) \n",
    "tempi = np.where(temp_dif==0)[0]-1\n",
    "new_events = np.delete(new_events,tempi,0)"
   ]
  },
  {
   "cell_type": "code",
   "execution_count": 24,
   "metadata": {},
   "outputs": [],
   "source": [
    "real_events = new_events\n",
    "real_events[5:14*3-1,2] = temp[:36]\n",
    "real_events[14*3:-1,2] = temp[36:]"
   ]
  },
  {
   "cell_type": "code",
   "execution_count": 19,
   "metadata": {},
   "outputs": [],
   "source": [
    "# STEP 2: Create an event dictionary\n",
    "event_id = {'filler/congruent/word/target': 10, # filler word with congruent prime\n",
    "            'filler/congruent/nonword/target': 12, # filler nonword with congruent prime\n",
    "            'filler/congruent/word/correct': 110, # filler word with congruent prime - correct answer\n",
    "            'filler/congruent/word/incorrect': 115, # filler word with congruent prime - incorrect answer\n",
    "            'filler/congruent/nonword/correct': 112, # filler non-word with congruent prime - correct answer\n",
    "            'filler/congruent/nonword/incorrect': 117, # filler non-word with congruent prime - incorrect answer\n",
    "            'filler/incongruent/word/target': 11, # filler word with incongruent prime\n",
    "            'filler/incongruent/nonword/target': 13, # filler nonword with incongruent prime\n",
    "            'filler/incongruent/word/correct': 111, # filler word with incongruent prime - correct answer\n",
    "            'filler/incongruent/word/incorrect': 116, # filler word with incongruent prime - incorrect answer\n",
    "            'filler/incongruent/nonword/correct': 113, # filler non-word with incongruent prime - correct answer\n",
    "            'filler/incongruent/nonword/incorrect': 118, # filler non-word with incongruent prime - incorrect answer\n",
    "            'basic/congruent/word/target': 20, # basic-category word with congruent prime\n",
    "            'basic/congruent/nonword/target': 22, # basic-category nonword with congruent prime\n",
    "            'basic/congruent/word/correct': 120, # basic-category word with congruent prime - correct answer\n",
    "            'basic/congruent/word/incorrect': 125, # basic-category word with congruent prime - incorrect answer\n",
    "            'basic/congruent/nonword/correct': 122, # basic-category non-word with congruent prime - correct answer\n",
    "            'basic/congruent/nonword/incorrect': 127, # basic-category non-word with congruent prime - incorrect answer\n",
    "            'basic/incongruent/word/target': 21, # basic-category word with incongruent prime\n",
    "            'basic/incongruent/nonword/target': 23, # basic-category nonword with incongruent prime\n",
    "            'basic/incongruent/word/correct': 121, # basic-category word with incongruent prime - correct answer\n",
    "            'basic/incongruent/word/incorrect': 126, # basic-category word with incongruent prime - incorrect answer\n",
    "            'basic/incongruent/nonword/correct': 123, # basic-category non-word with incongruent prime - correct answer\n",
    "            'basic/incongruent/nonword/incorrect': 128, # basic-category non-word with incongruent prime - incorrect answer\n",
    "            'subordinate/congruent/word/target': 30, # subordinate word with congruent prime\n",
    "            'subordinate/congruent/nonword/target': 32, # subordinate nonword with congruent prime\n",
    "            'subordinate/congruent/word/correct': 130, # subordinate word with congruent prime - correct answer\n",
    "            'subordinate/congruent/word/incorrect': 135, # subordinate word with congruent prime - incorrect answer\n",
    "            'subordinate/congruent/nonword/correct': 132, # subordinate non-word with congruent prime - correct answer\n",
    "            'subordinate/congruent/nonword/incorrect': 137, # subordinate non-word with congruent prime - incorrect answer\n",
    "            'subordinate/incongruent/word/target': 31, # subordinate word with incongruent prime\n",
    "            'subordinate/incongruent/nonword/target': 33, # subordinate nonword with incongruent prime\n",
    "            'subordinate/incongruent/word/correct': 131, # subordinate word with incongruent prime - correct answer\n",
    "            'subordinate/incongruent/word/incorrect': 136, # subordinate word with incongruent prime - incorrect answer\n",
    "            'subordinate/incongruent/nonword/correct': 133, # subordinate non-word with incongruent prime - correct answer\n",
    "            'subordinate/incongruent/nonword/incorrect': 138, # subordinate non-word with incongruent prime - incorrect answer\n",
    "            'compoundlast/congruent/word/target': 40, # compound-last word with congruent prime\n",
    "            'compoundlast/congruent/nonword/target': 42, # compound-last nonword with congruent prime\n",
    "            'compoundlast/congruent/word/correct': 140, # compound-last word with congruent prime - correct answer\n",
    "            'compoundlast/congruent/word/incorrect': 145, # compound-last word with congruent prime - incorrect answer\n",
    "            'compoundlast/congruent/nonword/correct': 142, # compound-last non-word with congruent prime - correct answer\n",
    "            'compoundlast/congruent/nonword/incorrect': 147, # compound-last non-word with congruent prime - incorrect answer\n",
    "            'compoundlast/incongruent/word/target': 41, # compound-last word with incongruent prime\n",
    "            'compoundlast/incongruent/nonword/target': 43, # compound-last nonword with incongruent prime\n",
    "            'compoundlast/incongruent/word/correct': 141, # compound-last word with incongruent prime - correct answer\n",
    "            'compoundlast/incongruent/word/incorrect': 146, # compound-last word with incongruent prime - incorrect answer\n",
    "            'compoundlast/incongruent/nonword/correct': 143, # compound-last non-word with incongruent prime - correct answer\n",
    "            'compoundlast/incongruent/nonword/incorrect': 148, # compound-last non-word with incongruent prime - incorrect answer\n",
    "            'compoundfirst/congruent/word/target': 50, # compound-first word with congruent prime\n",
    "            'compoundfirst/congruent/nonword/target': 52, # compound-first nonword with congruent prime\n",
    "            'compoundfirst/congruent/word/correct': 150, # compound-first word with congruent prime - correct answer\n",
    "            'compoundfirst/congruent/word/incorrect': 155, # compound-first word with congruent prime - incorrect answer\n",
    "            'compoundfirst/congruent/nonword/correct': 152, # compound-first non-word with congruent prime - correct answer\n",
    "            'compoundfirst/congruent/nonword/incorrect': 157, # compound-first non-word with congruent prime - incorrect answer\n",
    "            'compoundfirst/incongruent/word/target': 51, # compound-first word with incongruent prime\n",
    "            'compoundfirst/incongruent/nonword/target': 53, # compound-first nonword with incongruent prime\n",
    "            'compoundfirst/incongruent/word/correct': 151, # compound-first word with incongruent prime - correct answer\n",
    "            'compoundfirst/incongruent/word/incorrect': 156, # compound-first word with incongruent prime - incorrect answer\n",
    "            'compoundfirst/incongruent/nonword/correct': 153, # compound-first non-word with incongruent prime - correct answer\n",
    "            'compoundfirst/incongruent/nonword/incorrect': 158, # compound-first non-word with incongruent prime - incorrect answer\n",
    "            'nontransparentlast/congruent/word/target': 60, # nontransparent compound-last word with congruent prime\n",
    "            'nontransparentlast/congruent/nonword/target': 62, # nontransparent compound-last nonword with congruent prime\n",
    "            'nontransparentlast/congruent/word/correct': 160, # nontransparent compound-last word with congruent prime - correct answer\n",
    "            'nontransparentlast/congruent/word/incorrect': 165, # nontransparent compound-last word with congruent prime - incorrect answer\n",
    "            'nontransparentlast/congruent/nonword/correct': 162, # nontransparent compound-last non-word with congruent prime - correct answer\n",
    "            'nontransparentlast/congruent/nonword/incorrect': 167, # nontransparent compound-last non-word with congruent prime - incorrect answer\n",
    "            'nontransparentlast/incongruent/word/target': 61, # nontransparent compound-last word with incongruent prime\n",
    "            'nontransparentlast/incongruent/nonword/target': 63, # nontransparent compound-last nonword with incongruent prime\n",
    "            'nontransparentlast/incongruent/word/correct': 161, # nontransparent compound-last word with incongruent prime - correct answer\n",
    "            'nontransparentlast/incongruent/word/incorrect': 166, # nontransparent compound-last word with incongruent prime - incorrect answer\n",
    "            'nontransparentlast/incongruent/nonword/correct': 163, # nontransparent compound-last non-word with incongruent prime - correct answer\n",
    "            'nontransparentlast/incongruent/nonword/incorrect': 168, # nontransparent compound-last non-word with incongruent prime - incorrect answer\n",
    "            'nontransparentfirst/congruent/word/target': 70, # nontransparent compound-first word with congruent prime\n",
    "            'nontransparentfirst/congruent/nonword/target': 72, # nontransparent compound-first nonword with congruent prime\n",
    "            'nontransparentfirst/congruent/word/correct': 170, # nontransparent compound-first word with congruent prime - correct answer\n",
    "            'nontransparentfirst/congruent/word/incorrect': 175, # nontransparent compound-first word with congruent prime - incorrect answer\n",
    "            'nontransparentfirst/congruent/nonword/correct': 172, # nontransparent compound-first non-word with congruent prime - correct answer\n",
    "            'nontransparentfirst/congruent/nonword/incorrect': 177, # nontransparent compound-first non-word with congruent prime - incorrect answer\n",
    "            'nontransparentfirst/incongruent/word/target': 71, # nontransparent compound-first word with incongruent prime\n",
    "            'nontransparentfirst/incongruent/nonword/target': 73, # nontransparent compound-first nonword with incongruent prime\n",
    "            'nontransparentfirst/incongruent/word/correct': 171, # nontransparent compound-first word with incongruent prime - correct answer\n",
    "            'nontransparentfirst/incongruent/word/incorrect': 176, # nontransparent compound-first word with incongruent prime - incorrect answer\n",
    "            'nontransparentfirst/incongruent/nonword/correct': 173, # nontransparent compound-first non-word with incongruent prime - correct answer\n",
    "            'nontransparentfirst/incongruent/nonword/incorrect': 178, # nontransparent compound-first non-word with incongruent prime - incorrect answer\n",
    "            'abstract/congruent/word/target': 80, # abstract word with congruent prime\n",
    "            'abstract/congruent/nonword/target': 82, # abstract word with congruent prime\n",
    "            'abstract/congruent/word/correct': 180, # abstract word with congruent prime - correct answer\n",
    "            'abstract/congruent/word/incorrect': 185, # abstract word with congruent prime - incorrect answer\n",
    "            'abstract/congruent/nonword/correct': 182, # abstract non-word with congruent prime - correct answer\n",
    "            'abstract/congruent/nonword/incorrect': 187, # abstract non-word with congruent prime - incorrect answer\n",
    "            'abstract/incongruent/word/target': 81, # abstract word with incongruent prime\n",
    "            'abstract/incongruent/nonword/target': 83, # abstract fumbelword with incongruent prime\n",
    "            'abstract/incongruent/word/correct': 181, # abstract word with incongruent prime - correct answer\n",
    "            'abstract/incongruent/word/incorrect': 186, # abstract word with incongruent prime - incorrect answer\n",
    "            'abstract/incongruent/nonword/correct': 183, # abstract non-word with incongruent prime - correct answer\n",
    "            'abstract/incongruent/nonword/incorrect': 188, # abstract non-word with incongruent prime - incorrect answer\n",
    "            'practice/congruent/word/target': 90, # practice word with congruent prime\n",
    "            'practice/congruent/nonword/target': 92, # practice word with congruent prime\n",
    "            'practice/congruent/word/correct': 190, # practice word with congruent prime - correct answer\n",
    "            'practice/congruent/word/incorrect': 195, # practice word with congruent prime - incorrect answer\n",
    "            'practice/congruent/nonword/correct': 192, # practice non-word with congruent prime - correct answer\n",
    "            'practice/congruent/nonword/incorrect': 197, # practice non-word with congruent prime - incorrect answer\n",
    "            'practice/incongruent/word/target': 91, # practice word with incongruent prime\n",
    "            'practice/incongruent/nonword/target': 93,                                  # practice word with congruent prime\n",
    "            'practice/incongruent/word/correct': 191, # practice word with incongruent prime - correct answer\n",
    "            'practice/incongruent/word/incorrect': 196, # practice word with incongruent prime - incorrect answer\n",
    "            'practice/incongruent/nonword/correct': 193, # practice non-word with incongruent prime - correct answer\n",
    "            'practice/incongruent/nonword/incorrect': 198 # practice non-word with incongruent prime - incorrect answer\n",
    "           }"
   ]
  },
  {
   "cell_type": "code",
   "execution_count": 20,
   "metadata": {},
   "outputs": [
    {
     "name": "stdout",
     "output_type": "stream",
     "text": [
      "{'filler/congruent/word/target': 10, 'filler/congruent/nonword/target': 12, 'filler/congruent/word/correct': 110, 'filler/congruent/word/incorrect': 115, 'filler/congruent/nonword/correct': 112, 'filler/congruent/nonword/incorrect': 117, 'filler/incongruent/word/target': 11, 'filler/incongruent/nonword/target': 13, 'filler/incongruent/word/correct': 111, 'filler/incongruent/word/incorrect': 116, 'filler/incongruent/nonword/correct': 113, 'filler/incongruent/nonword/incorrect': 118, 'basic/congruent/word/target': 20, 'basic/congruent/nonword/target': 22, 'basic/congruent/word/correct': 120, 'basic/congruent/nonword/correct': 122, 'basic/congruent/nonword/incorrect': 127, 'basic/incongruent/word/target': 21, 'basic/incongruent/nonword/target': 23, 'basic/incongruent/word/correct': 121, 'basic/incongruent/word/incorrect': 126, 'basic/incongruent/nonword/correct': 123, 'basic/incongruent/nonword/incorrect': 128, 'subordinate/congruent/word/target': 30, 'subordinate/congruent/nonword/target': 32, 'subordinate/congruent/word/correct': 130, 'subordinate/congruent/nonword/correct': 132, 'subordinate/incongruent/word/target': 31, 'subordinate/incongruent/nonword/target': 33, 'subordinate/incongruent/word/correct': 131, 'subordinate/incongruent/word/incorrect': 136, 'subordinate/incongruent/nonword/correct': 133, 'compoundlast/congruent/nonword/target': 42, 'compoundlast/congruent/nonword/correct': 142, 'compoundlast/incongruent/word/target': 41, 'compoundlast/incongruent/nonword/target': 43, 'compoundlast/incongruent/word/correct': 141, 'compoundlast/incongruent/nonword/correct': 143, 'compoundfirst/congruent/word/target': 50, 'compoundfirst/congruent/nonword/target': 52, 'compoundfirst/congruent/word/correct': 150, 'compoundfirst/congruent/nonword/correct': 152, 'compoundfirst/incongruent/word/target': 51, 'compoundfirst/incongruent/word/correct': 151, 'compoundfirst/incongruent/word/incorrect': 156, 'nontransparentlast/congruent/word/target': 60, 'nontransparentlast/congruent/nonword/target': 62, 'nontransparentlast/congruent/word/incorrect': 165, 'nontransparentlast/congruent/nonword/correct': 162, 'nontransparentlast/incongruent/nonword/target': 63, 'nontransparentlast/incongruent/nonword/correct': 163, 'nontransparentfirst/congruent/word/target': 70, 'nontransparentfirst/congruent/nonword/target': 72, 'nontransparentfirst/congruent/word/correct': 170, 'nontransparentfirst/congruent/word/incorrect': 175, 'nontransparentfirst/congruent/nonword/incorrect': 177, 'nontransparentfirst/incongruent/word/target': 71, 'nontransparentfirst/incongruent/word/correct': 171, 'abstract/incongruent/word/target': 81, 'abstract/incongruent/nonword/target': 83, 'abstract/incongruent/word/correct': 181, 'abstract/incongruent/nonword/correct': 183, 'practice/congruent/word/target': 90, 'practice/congruent/nonword/target': 92, 'practice/congruent/word/correct': 190, 'practice/congruent/nonword/correct': 192, 'practice/incongruent/word/target': 91, 'practice/incongruent/nonword/target': 93, 'practice/incongruent/word/correct': 191, 'practice/incongruent/word/incorrect': 196, 'practice/incongruent/nonword/correct': 193}\n"
     ]
    }
   ],
   "source": [
    "# modify event id so we only have triggers from our data so we do not get an error when we are trying to run \n",
    "triggers_unique = np.unique(real_events[:, 2])\n",
    "\n",
    "# Create a new dictionary for the selected triggers\n",
    "updated_event_ids = {}\n",
    "\n",
    "# Iterate through the event_id dictionary\n",
    "for key, value in event_id.items():\n",
    "    if value in triggers_unique:\n",
    "        updated_event_ids[key] = value\n",
    "\n",
    "print(updated_event_ids)\n"
   ]
  },
  {
   "cell_type": "code",
   "execution_count": 21,
   "metadata": {},
   "outputs": [],
   "source": [
    "# STEP 3: establish a time window for epochs\n",
    "tmin = -0.2\n",
    "tmax = 1"
   ]
  },
  {
   "cell_type": "code",
   "execution_count": 22,
   "metadata": {},
   "outputs": [
    {
     "name": "stdout",
     "output_type": "stream",
     "text": [
      "Not setting metadata\n",
      "147 matching events found\n",
      "Setting baseline interval to [-0.2, 0.0] s\n",
      "Applying baseline correction (mode: mean)\n",
      "Created an SSP operator (subspace dimension = 1)\n",
      "1 projection items activated\n",
      "Using data from preloaded Raw for 147 events and 1201 original time points ...\n",
      "    Rejecting  epoch based on EEG : ['Fp1', 'Fp2']\n",
      "    Rejecting  epoch based on EEG : ['Fp1']\n",
      "    Rejecting  epoch based on EEG : ['Fp1', 'FT9', 'TP9', 'P7', 'Fp2']\n",
      "    Rejecting  epoch based on EEG : ['Fp1', 'Fp2']\n",
      "    Rejecting  epoch based on EEG : ['Fp1', 'Fp2']\n",
      "    Rejecting  epoch based on EEG : ['Fp1', 'Fp2']\n",
      "    Rejecting  epoch based on EEG : ['Fp2']\n",
      "    Rejecting  epoch based on EEG : ['Fp2']\n",
      "    Rejecting  epoch based on EEG : ['Fp1', 'Fp2']\n",
      "    Rejecting  epoch based on EEG : ['Fp1', 'Fp2']\n",
      "    Rejecting  epoch based on EEG : ['Fp1', 'Fp2']\n",
      "    Rejecting  epoch based on EEG : ['Fp1', 'Fp2']\n",
      "    Rejecting  epoch based on EEG : ['Fp1', 'Fp2']\n",
      "    Rejecting  epoch based on EEG : ['Fp1', 'Fp2']\n",
      "    Rejecting  epoch based on EEG : ['Fp1', 'Fp2']\n",
      "    Rejecting  epoch based on EEG : ['Fp1', 'Fp2']\n",
      "    Rejecting  epoch based on EEG : ['Fp1', 'Fp2']\n",
      "    Rejecting  epoch based on EEG : ['Fp1', 'Fp2']\n",
      "    Rejecting  epoch based on EEG : ['Fp1', 'F7', 'FT9', 'TP9', 'Fp2']\n",
      "    Rejecting  epoch based on EEG : ['Fp1', 'Fp2']\n",
      "    Rejecting  epoch based on EEG : ['Fp1', 'Fp2']\n",
      "    Rejecting  epoch based on EEG : ['Fp1', 'Fp2']\n",
      "    Rejecting  epoch based on EEG : ['Fp1', 'Fp2']\n",
      "    Rejecting  epoch based on EEG : ['Fp1', 'Fp2']\n",
      "    Rejecting  epoch based on EEG : ['Fp1', 'Fp2']\n",
      "    Rejecting  epoch based on EEG : ['Fp1', 'Fp2']\n",
      "    Rejecting  epoch based on EEG : ['Fp1', 'Fp2']\n",
      "    Rejecting  epoch based on EEG : ['Fp1', 'Fp2']\n",
      "    Rejecting  epoch based on EEG : ['Fp1', 'Fp2']\n",
      "    Rejecting  epoch based on EEG : ['F7', 'F8', 'Fp2']\n",
      "    Rejecting  epoch based on EEG : ['Fp1', 'F8']\n",
      "    Rejecting  epoch based on EEG : ['Fp1', 'TP9', 'F8', 'Fp2']\n",
      "    Rejecting  epoch based on EEG : ['Fp1', 'F7', 'FT9', 'FC5', 'T7', 'TP9', 'P7', 'T8', 'FT10', 'FC6', 'F8', 'Fp2']\n",
      "    Rejecting  epoch based on EEG : ['Fp1', 'F7', 'FT9', 'T7', 'TP9', 'P7', 'F4', 'F8', 'Fp2']\n",
      "    Rejecting  epoch based on EEG : ['Fp1', 'F3', 'F7', 'TP9', 'P7', 'F8', 'Fp2']\n",
      "    Rejecting  epoch based on EEG : ['Fp1', 'TP9', 'P7', 'F8', 'Fp2']\n",
      "    Rejecting  epoch based on EEG : ['Fp1', 'TP9', 'P7', 'Fp2']\n",
      "    Rejecting  epoch based on EEG : ['Fp1', 'P7', 'Fp2']\n",
      "    Rejecting  epoch based on EEG : ['Fp1', 'F8', 'Fp2']\n",
      "    Rejecting  epoch based on EEG : ['Fp1', 'F7', 'FT9', 'FC5', 'T7', 'TP9', 'P7', 'T8', 'FT10', 'F4', 'F8', 'Fp2']\n",
      "    Rejecting  epoch based on EEG : ['Fp1', 'F7', 'FT9', 'FC5', 'T7', 'TP9', 'P7', 'FT10', 'F4', 'F8', 'Fp2']\n",
      "    Rejecting  epoch based on EEG : ['Fp1', 'TP9', 'Fp2']\n",
      "    Rejecting  epoch based on EEG : ['Fp1', 'P7', 'Fp2']\n",
      "    Rejecting  epoch based on EEG : ['Fp1', 'TP9', 'P7', 'Fp2']\n",
      "    Rejecting  epoch based on EEG : ['Fp1', 'F7', 'P7', 'Fp2']\n",
      "    Rejecting  epoch based on EEG : ['Fp1', 'P7', 'Fp2']\n",
      "    Rejecting  epoch based on EEG : ['Fp1', 'Fp2']\n",
      "    Rejecting  epoch based on EEG : ['Fp1', 'Fp2']\n",
      "    Rejecting  epoch based on EEG : ['Fp1', 'FT10', 'F8', 'Fp2']\n",
      "    Rejecting  epoch based on EEG : ['Fp1', 'F8', 'Fp2']\n",
      "    Rejecting  epoch based on EEG : ['Fp1', 'Fp2']\n",
      "    Rejecting  epoch based on EEG : ['Fp1', 'F7', 'TP9', 'P7', 'FT10', 'F8', 'Fp2']\n"
     ]
    },
    {
     "ename": "KeyboardInterrupt",
     "evalue": "",
     "output_type": "error",
     "traceback": [
      "\u001b[0;31m---------------------------------------------------------------------------\u001b[0m",
      "\u001b[0;31mKeyboardInterrupt\u001b[0m                         Traceback (most recent call last)",
      "Cell \u001b[0;32mIn[22], line 2\u001b[0m\n\u001b[1;32m      1\u001b[0m \u001b[39m# STEP 4: Create the epochs\u001b[39;00m\n\u001b[0;32m----> 2\u001b[0m epochs \u001b[39m=\u001b[39m mne\u001b[39m.\u001b[39;49mEpochs(\n\u001b[1;32m      3\u001b[0m     raw, \n\u001b[1;32m      4\u001b[0m     real_events,\n\u001b[1;32m      5\u001b[0m     event_id \u001b[39m=\u001b[39;49m updated_event_ids, \n\u001b[1;32m      6\u001b[0m     tmin \u001b[39m=\u001b[39;49m tmin, \n\u001b[1;32m      7\u001b[0m     tmax \u001b[39m=\u001b[39;49m tmax, \n\u001b[1;32m      8\u001b[0m     picks\u001b[39m=\u001b[39;49m[\u001b[39m\"\u001b[39;49m\u001b[39meeg\u001b[39;49m\u001b[39m\"\u001b[39;49m],\n\u001b[1;32m      9\u001b[0m     baseline\u001b[39m=\u001b[39;49m(\u001b[39mNone\u001b[39;49;00m, \u001b[39m0\u001b[39;49m), \n\u001b[1;32m     10\u001b[0m     reject\u001b[39m=\u001b[39;49mreject, \n\u001b[1;32m     11\u001b[0m     preload\u001b[39m=\u001b[39;49m\u001b[39mTrue\u001b[39;49;00m\n\u001b[1;32m     12\u001b[0m     )\n",
      "File \u001b[0;32m<decorator-gen-286>:12\u001b[0m, in \u001b[0;36m__init__\u001b[0;34m(self, raw, events, event_id, tmin, tmax, baseline, picks, preload, reject, flat, proj, decim, reject_tmin, reject_tmax, detrend, on_missing, reject_by_annotation, metadata, event_repeated, verbose)\u001b[0m\n",
      "File \u001b[0;32m/work/LauraBockPaulsen#1941/LaCoBra-E23/env/lib/python3.10/site-packages/mne/epochs.py:3087\u001b[0m, in \u001b[0;36mEpochs.__init__\u001b[0;34m(self, raw, events, event_id, tmin, tmax, baseline, picks, preload, reject, flat, proj, decim, reject_tmin, reject_tmax, detrend, on_missing, reject_by_annotation, metadata, event_repeated, verbose)\u001b[0m\n\u001b[1;32m   3084\u001b[0m raw_sfreq \u001b[39m=\u001b[39m raw\u001b[39m.\u001b[39minfo[\u001b[39m\"\u001b[39m\u001b[39msfreq\u001b[39m\u001b[39m\"\u001b[39m]\n\u001b[1;32m   3086\u001b[0m \u001b[39m# call BaseEpochs constructor\u001b[39;00m\n\u001b[0;32m-> 3087\u001b[0m \u001b[39msuper\u001b[39;49m(Epochs, \u001b[39mself\u001b[39;49m)\u001b[39m.\u001b[39;49m\u001b[39m__init__\u001b[39;49m(\n\u001b[1;32m   3088\u001b[0m     info,\n\u001b[1;32m   3089\u001b[0m     \u001b[39mNone\u001b[39;49;00m,\n\u001b[1;32m   3090\u001b[0m     events,\n\u001b[1;32m   3091\u001b[0m     event_id,\n\u001b[1;32m   3092\u001b[0m     tmin,\n\u001b[1;32m   3093\u001b[0m     tmax,\n\u001b[1;32m   3094\u001b[0m     metadata\u001b[39m=\u001b[39;49mmetadata,\n\u001b[1;32m   3095\u001b[0m     baseline\u001b[39m=\u001b[39;49mbaseline,\n\u001b[1;32m   3096\u001b[0m     raw\u001b[39m=\u001b[39;49mraw,\n\u001b[1;32m   3097\u001b[0m     picks\u001b[39m=\u001b[39;49mpicks,\n\u001b[1;32m   3098\u001b[0m     reject\u001b[39m=\u001b[39;49mreject,\n\u001b[1;32m   3099\u001b[0m     flat\u001b[39m=\u001b[39;49mflat,\n\u001b[1;32m   3100\u001b[0m     decim\u001b[39m=\u001b[39;49mdecim,\n\u001b[1;32m   3101\u001b[0m     reject_tmin\u001b[39m=\u001b[39;49mreject_tmin,\n\u001b[1;32m   3102\u001b[0m     reject_tmax\u001b[39m=\u001b[39;49mreject_tmax,\n\u001b[1;32m   3103\u001b[0m     detrend\u001b[39m=\u001b[39;49mdetrend,\n\u001b[1;32m   3104\u001b[0m     proj\u001b[39m=\u001b[39;49mproj,\n\u001b[1;32m   3105\u001b[0m     on_missing\u001b[39m=\u001b[39;49mon_missing,\n\u001b[1;32m   3106\u001b[0m     preload_at_end\u001b[39m=\u001b[39;49mpreload,\n\u001b[1;32m   3107\u001b[0m     event_repeated\u001b[39m=\u001b[39;49mevent_repeated,\n\u001b[1;32m   3108\u001b[0m     verbose\u001b[39m=\u001b[39;49mverbose,\n\u001b[1;32m   3109\u001b[0m     raw_sfreq\u001b[39m=\u001b[39;49mraw_sfreq,\n\u001b[1;32m   3110\u001b[0m     annotations\u001b[39m=\u001b[39;49mraw\u001b[39m.\u001b[39;49mannotations,\n\u001b[1;32m   3111\u001b[0m )\n",
      "File \u001b[0;32m<decorator-gen-272>:12\u001b[0m, in \u001b[0;36m__init__\u001b[0;34m(self, info, data, events, event_id, tmin, tmax, baseline, raw, picks, reject, flat, decim, reject_tmin, reject_tmax, detrend, proj, on_missing, preload_at_end, selection, drop_log, filename, metadata, event_repeated, raw_sfreq, annotations, verbose)\u001b[0m\n",
      "File \u001b[0;32m/work/LauraBockPaulsen#1941/LaCoBra-E23/env/lib/python3.10/site-packages/mne/epochs.py:687\u001b[0m, in \u001b[0;36mBaseEpochs.__init__\u001b[0;34m(***failed resolving arguments***)\u001b[0m\n\u001b[1;32m    685\u001b[0m     \u001b[39massert\u001b[39;00m \u001b[39mself\u001b[39m\u001b[39m.\u001b[39m_data \u001b[39mis\u001b[39;00m \u001b[39mNone\u001b[39;00m\n\u001b[1;32m    686\u001b[0m     \u001b[39massert\u001b[39;00m \u001b[39mself\u001b[39m\u001b[39m.\u001b[39mpreload \u001b[39mis\u001b[39;00m \u001b[39mFalse\u001b[39;00m\n\u001b[0;32m--> 687\u001b[0m     \u001b[39mself\u001b[39;49m\u001b[39m.\u001b[39;49mload_data()  \u001b[39m# this will do the projection\u001b[39;00m\n\u001b[1;32m    688\u001b[0m \u001b[39melif\u001b[39;00m proj \u001b[39mis\u001b[39;00m \u001b[39mTrue\u001b[39;00m \u001b[39mand\u001b[39;00m \u001b[39mself\u001b[39m\u001b[39m.\u001b[39m_projector \u001b[39mis\u001b[39;00m \u001b[39mnot\u001b[39;00m \u001b[39mNone\u001b[39;00m \u001b[39mand\u001b[39;00m data \u001b[39mis\u001b[39;00m \u001b[39mnot\u001b[39;00m \u001b[39mNone\u001b[39;00m:\n\u001b[1;32m    689\u001b[0m     \u001b[39m# let's make sure we project if data was provided and proj\u001b[39;00m\n\u001b[1;32m    690\u001b[0m     \u001b[39m# requested\u001b[39;00m\n\u001b[1;32m    691\u001b[0m     \u001b[39m# we could do this with np.einsum, but iteration should be\u001b[39;00m\n\u001b[1;32m    692\u001b[0m     \u001b[39m# more memory safe in most instances\u001b[39;00m\n\u001b[1;32m    693\u001b[0m     \u001b[39mfor\u001b[39;00m ii, epoch \u001b[39min\u001b[39;00m \u001b[39menumerate\u001b[39m(\u001b[39mself\u001b[39m\u001b[39m.\u001b[39m_data):\n",
      "File \u001b[0;32m/work/LauraBockPaulsen#1941/LaCoBra-E23/env/lib/python3.10/site-packages/mne/epochs.py:743\u001b[0m, in \u001b[0;36mBaseEpochs.load_data\u001b[0;34m(self)\u001b[0m\n\u001b[1;32m    741\u001b[0m \u001b[39mif\u001b[39;00m \u001b[39mself\u001b[39m\u001b[39m.\u001b[39mpreload:\n\u001b[1;32m    742\u001b[0m     \u001b[39mreturn\u001b[39;00m \u001b[39mself\u001b[39m\n\u001b[0;32m--> 743\u001b[0m \u001b[39mself\u001b[39m\u001b[39m.\u001b[39m_data \u001b[39m=\u001b[39m \u001b[39mself\u001b[39;49m\u001b[39m.\u001b[39;49m_get_data()\n\u001b[1;32m    744\u001b[0m \u001b[39mself\u001b[39m\u001b[39m.\u001b[39mpreload \u001b[39m=\u001b[39m \u001b[39mTrue\u001b[39;00m\n\u001b[1;32m    745\u001b[0m \u001b[39mself\u001b[39m\u001b[39m.\u001b[39m_do_baseline \u001b[39m=\u001b[39m \u001b[39mFalse\u001b[39;00m\n",
      "File \u001b[0;32m<decorator-gen-278>:12\u001b[0m, in \u001b[0;36m_get_data\u001b[0;34m(self, out, picks, item, units, tmin, tmax, verbose)\u001b[0m\n",
      "File \u001b[0;32m/work/LauraBockPaulsen#1941/LaCoBra-E23/env/lib/python3.10/site-packages/mne/epochs.py:1721\u001b[0m, in \u001b[0;36mBaseEpochs._get_data\u001b[0;34m(self, out, picks, item, units, tmin, tmax, verbose)\u001b[0m\n\u001b[1;32m   1718\u001b[0m     epoch \u001b[39m=\u001b[39m \u001b[39mself\u001b[39m\u001b[39m.\u001b[39m_project_epoch(epoch_noproj)\n\u001b[1;32m   1720\u001b[0m epoch_out \u001b[39m=\u001b[39m epoch_noproj \u001b[39mif\u001b[39;00m \u001b[39mself\u001b[39m\u001b[39m.\u001b[39m_do_delayed_proj \u001b[39melse\u001b[39;00m epoch\n\u001b[0;32m-> 1721\u001b[0m is_good, bad_tuple \u001b[39m=\u001b[39m \u001b[39mself\u001b[39;49m\u001b[39m.\u001b[39;49m_is_good_epoch(epoch, verbose\u001b[39m=\u001b[39;49mverbose)\n\u001b[1;32m   1722\u001b[0m \u001b[39mif\u001b[39;00m \u001b[39mnot\u001b[39;00m is_good:\n\u001b[1;32m   1723\u001b[0m     \u001b[39massert\u001b[39;00m \u001b[39misinstance\u001b[39m(bad_tuple, \u001b[39mtuple\u001b[39m)\n",
      "File \u001b[0;32m<decorator-gen-274>:12\u001b[0m, in \u001b[0;36m_is_good_epoch\u001b[0;34m(self, data, verbose)\u001b[0m\n",
      "File \u001b[0;32m/work/LauraBockPaulsen#1941/LaCoBra-E23/env/lib/python3.10/site-packages/mne/epochs.py:909\u001b[0m, in \u001b[0;36mBaseEpochs._is_good_epoch\u001b[0;34m(self, data, verbose)\u001b[0m\n\u001b[1;32m    906\u001b[0m \u001b[39mif\u001b[39;00m \u001b[39mself\u001b[39m\u001b[39m.\u001b[39m_reject_time \u001b[39mis\u001b[39;00m \u001b[39mnot\u001b[39;00m \u001b[39mNone\u001b[39;00m:\n\u001b[1;32m    907\u001b[0m     data \u001b[39m=\u001b[39m data[:, \u001b[39mself\u001b[39m\u001b[39m.\u001b[39m_reject_time]\n\u001b[0;32m--> 909\u001b[0m \u001b[39mreturn\u001b[39;00m _is_good(\n\u001b[1;32m    910\u001b[0m     data,\n\u001b[1;32m    911\u001b[0m     \u001b[39mself\u001b[39;49m\u001b[39m.\u001b[39;49mch_names,\n\u001b[1;32m    912\u001b[0m     \u001b[39mself\u001b[39;49m\u001b[39m.\u001b[39;49m_channel_type_idx,\n\u001b[1;32m    913\u001b[0m     \u001b[39mself\u001b[39;49m\u001b[39m.\u001b[39;49mreject,\n\u001b[1;32m    914\u001b[0m     \u001b[39mself\u001b[39;49m\u001b[39m.\u001b[39;49mflat,\n\u001b[1;32m    915\u001b[0m     full_report\u001b[39m=\u001b[39;49m\u001b[39mTrue\u001b[39;49;00m,\n\u001b[1;32m    916\u001b[0m     ignore_chs\u001b[39m=\u001b[39;49m\u001b[39mself\u001b[39;49m\u001b[39m.\u001b[39;49minfo[\u001b[39m\"\u001b[39;49m\u001b[39mbads\u001b[39;49m\u001b[39m\"\u001b[39;49m],\n\u001b[1;32m    917\u001b[0m )\n",
      "File \u001b[0;32m<decorator-gen-289>:12\u001b[0m, in \u001b[0;36m_is_good\u001b[0;34m(e, ch_names, channel_type_idx, reject, flat, full_report, ignore_chs, verbose)\u001b[0m\n",
      "File \u001b[0;32m/work/LauraBockPaulsen#1941/LaCoBra-E23/env/lib/python3.10/site-packages/mne/epochs.py:3506\u001b[0m, in \u001b[0;36m_is_good\u001b[0;34m(e, ch_names, channel_type_idx, reject, flat, full_report, ignore_chs, verbose)\u001b[0m\n\u001b[1;32m   3504\u001b[0m bad_names \u001b[39m=\u001b[39m [ch_names[idx[i]] \u001b[39mfor\u001b[39;00m i \u001b[39min\u001b[39;00m idx_deltas]\n\u001b[1;32m   3505\u001b[0m \u001b[39mif\u001b[39;00m \u001b[39mnot\u001b[39;00m has_printed:\n\u001b[0;32m-> 3506\u001b[0m     logger\u001b[39m.\u001b[39;49minfo(\n\u001b[1;32m   3507\u001b[0m         \u001b[39m\"\u001b[39;49m\u001b[39m    Rejecting \u001b[39;49m\u001b[39m%s\u001b[39;49;00m\u001b[39m epoch based on \u001b[39;49m\u001b[39m%s\u001b[39;49;00m\u001b[39m : \u001b[39;49m\u001b[39m\"\u001b[39;49m\n\u001b[1;32m   3508\u001b[0m         \u001b[39m\"\u001b[39;49m\u001b[39m%s\u001b[39;49;00m\u001b[39m\"\u001b[39;49m \u001b[39m%\u001b[39;49m (t, name, bad_names)\n\u001b[1;32m   3509\u001b[0m     )\n\u001b[1;32m   3510\u001b[0m     has_printed \u001b[39m=\u001b[39m \u001b[39mTrue\u001b[39;00m\n\u001b[1;32m   3511\u001b[0m \u001b[39mif\u001b[39;00m \u001b[39mnot\u001b[39;00m full_report:\n",
      "File \u001b[0;32m/usr/lib/python3.10/logging/__init__.py:1477\u001b[0m, in \u001b[0;36mLogger.info\u001b[0;34m(self, msg, *args, **kwargs)\u001b[0m\n\u001b[1;32m   1468\u001b[0m \u001b[39m\u001b[39m\u001b[39m\"\"\"\u001b[39;00m\n\u001b[1;32m   1469\u001b[0m \u001b[39mLog 'msg % args' with severity 'INFO'.\u001b[39;00m\n\u001b[1;32m   1470\u001b[0m \n\u001b[0;32m   (...)\u001b[0m\n\u001b[1;32m   1474\u001b[0m \u001b[39mlogger.info(\"Houston, we have a %s\", \"interesting problem\", exc_info=1)\u001b[39;00m\n\u001b[1;32m   1475\u001b[0m \u001b[39m\"\"\"\u001b[39;00m\n\u001b[1;32m   1476\u001b[0m \u001b[39mif\u001b[39;00m \u001b[39mself\u001b[39m\u001b[39m.\u001b[39misEnabledFor(INFO):\n\u001b[0;32m-> 1477\u001b[0m     \u001b[39mself\u001b[39;49m\u001b[39m.\u001b[39;49m_log(INFO, msg, args, \u001b[39m*\u001b[39;49m\u001b[39m*\u001b[39;49mkwargs)\n",
      "File \u001b[0;32m/usr/lib/python3.10/logging/__init__.py:1624\u001b[0m, in \u001b[0;36mLogger._log\u001b[0;34m(self, level, msg, args, exc_info, extra, stack_info, stacklevel)\u001b[0m\n\u001b[1;32m   1621\u001b[0m         exc_info \u001b[39m=\u001b[39m sys\u001b[39m.\u001b[39mexc_info()\n\u001b[1;32m   1622\u001b[0m record \u001b[39m=\u001b[39m \u001b[39mself\u001b[39m\u001b[39m.\u001b[39mmakeRecord(\u001b[39mself\u001b[39m\u001b[39m.\u001b[39mname, level, fn, lno, msg, args,\n\u001b[1;32m   1623\u001b[0m                          exc_info, func, extra, sinfo)\n\u001b[0;32m-> 1624\u001b[0m \u001b[39mself\u001b[39;49m\u001b[39m.\u001b[39;49mhandle(record)\n",
      "File \u001b[0;32m/usr/lib/python3.10/logging/__init__.py:1634\u001b[0m, in \u001b[0;36mLogger.handle\u001b[0;34m(self, record)\u001b[0m\n\u001b[1;32m   1627\u001b[0m \u001b[39m\u001b[39m\u001b[39m\"\"\"\u001b[39;00m\n\u001b[1;32m   1628\u001b[0m \u001b[39mCall the handlers for the specified record.\u001b[39;00m\n\u001b[1;32m   1629\u001b[0m \n\u001b[1;32m   1630\u001b[0m \u001b[39mThis method is used for unpickled records received from a socket, as\u001b[39;00m\n\u001b[1;32m   1631\u001b[0m \u001b[39mwell as those created locally. Logger-level filtering is applied.\u001b[39;00m\n\u001b[1;32m   1632\u001b[0m \u001b[39m\"\"\"\u001b[39;00m\n\u001b[1;32m   1633\u001b[0m \u001b[39mif\u001b[39;00m (\u001b[39mnot\u001b[39;00m \u001b[39mself\u001b[39m\u001b[39m.\u001b[39mdisabled) \u001b[39mand\u001b[39;00m \u001b[39mself\u001b[39m\u001b[39m.\u001b[39mfilter(record):\n\u001b[0;32m-> 1634\u001b[0m     \u001b[39mself\u001b[39;49m\u001b[39m.\u001b[39;49mcallHandlers(record)\n",
      "File \u001b[0;32m/usr/lib/python3.10/logging/__init__.py:1696\u001b[0m, in \u001b[0;36mLogger.callHandlers\u001b[0;34m(self, record)\u001b[0m\n\u001b[1;32m   1694\u001b[0m     found \u001b[39m=\u001b[39m found \u001b[39m+\u001b[39m \u001b[39m1\u001b[39m\n\u001b[1;32m   1695\u001b[0m     \u001b[39mif\u001b[39;00m record\u001b[39m.\u001b[39mlevelno \u001b[39m>\u001b[39m\u001b[39m=\u001b[39m hdlr\u001b[39m.\u001b[39mlevel:\n\u001b[0;32m-> 1696\u001b[0m         hdlr\u001b[39m.\u001b[39;49mhandle(record)\n\u001b[1;32m   1697\u001b[0m \u001b[39mif\u001b[39;00m \u001b[39mnot\u001b[39;00m c\u001b[39m.\u001b[39mpropagate:\n\u001b[1;32m   1698\u001b[0m     c \u001b[39m=\u001b[39m \u001b[39mNone\u001b[39;00m    \u001b[39m#break out\u001b[39;00m\n",
      "File \u001b[0;32m/usr/lib/python3.10/logging/__init__.py:968\u001b[0m, in \u001b[0;36mHandler.handle\u001b[0;34m(self, record)\u001b[0m\n\u001b[1;32m    966\u001b[0m \u001b[39mself\u001b[39m\u001b[39m.\u001b[39macquire()\n\u001b[1;32m    967\u001b[0m \u001b[39mtry\u001b[39;00m:\n\u001b[0;32m--> 968\u001b[0m     \u001b[39mself\u001b[39;49m\u001b[39m.\u001b[39;49memit(record)\n\u001b[1;32m    969\u001b[0m \u001b[39mfinally\u001b[39;00m:\n\u001b[1;32m    970\u001b[0m     \u001b[39mself\u001b[39m\u001b[39m.\u001b[39mrelease()\n",
      "File \u001b[0;32m/usr/lib/python3.10/logging/__init__.py:1104\u001b[0m, in \u001b[0;36mStreamHandler.emit\u001b[0;34m(self, record)\u001b[0m\n\u001b[1;32m   1102\u001b[0m     \u001b[39m# issue 35046: merged two stream.writes into one.\u001b[39;00m\n\u001b[1;32m   1103\u001b[0m     stream\u001b[39m.\u001b[39mwrite(msg \u001b[39m+\u001b[39m \u001b[39mself\u001b[39m\u001b[39m.\u001b[39mterminator)\n\u001b[0;32m-> 1104\u001b[0m     \u001b[39mself\u001b[39;49m\u001b[39m.\u001b[39;49mflush()\n\u001b[1;32m   1105\u001b[0m \u001b[39mexcept\u001b[39;00m \u001b[39mRecursionError\u001b[39;00m:  \u001b[39m# See issue 36272\u001b[39;00m\n\u001b[1;32m   1106\u001b[0m     \u001b[39mraise\u001b[39;00m\n",
      "File \u001b[0;32m/usr/lib/python3.10/logging/__init__.py:1084\u001b[0m, in \u001b[0;36mStreamHandler.flush\u001b[0;34m(self)\u001b[0m\n\u001b[1;32m   1082\u001b[0m \u001b[39mtry\u001b[39;00m:\n\u001b[1;32m   1083\u001b[0m     \u001b[39mif\u001b[39;00m \u001b[39mself\u001b[39m\u001b[39m.\u001b[39mstream \u001b[39mand\u001b[39;00m \u001b[39mhasattr\u001b[39m(\u001b[39mself\u001b[39m\u001b[39m.\u001b[39mstream, \u001b[39m\"\u001b[39m\u001b[39mflush\u001b[39m\u001b[39m\"\u001b[39m):\n\u001b[0;32m-> 1084\u001b[0m         \u001b[39mself\u001b[39;49m\u001b[39m.\u001b[39;49mstream\u001b[39m.\u001b[39;49mflush()\n\u001b[1;32m   1085\u001b[0m \u001b[39mfinally\u001b[39;00m:\n\u001b[1;32m   1086\u001b[0m     \u001b[39mself\u001b[39m\u001b[39m.\u001b[39mrelease()\n",
      "File \u001b[0;32m/work/LauraBockPaulsen#1941/LaCoBra-E23/env/lib/python3.10/site-packages/ipykernel/iostream.py:580\u001b[0m, in \u001b[0;36mOutStream.flush\u001b[0;34m(self)\u001b[0m\n\u001b[1;32m    578\u001b[0m     \u001b[39mself\u001b[39m\u001b[39m.\u001b[39mpub_thread\u001b[39m.\u001b[39mschedule(evt\u001b[39m.\u001b[39mset)\n\u001b[1;32m    579\u001b[0m     \u001b[39m# and give a timeout to avoid\u001b[39;00m\n\u001b[0;32m--> 580\u001b[0m     \u001b[39mif\u001b[39;00m \u001b[39mnot\u001b[39;00m evt\u001b[39m.\u001b[39;49mwait(\u001b[39mself\u001b[39;49m\u001b[39m.\u001b[39;49mflush_timeout):\n\u001b[1;32m    581\u001b[0m         \u001b[39m# write directly to __stderr__ instead of warning because\u001b[39;00m\n\u001b[1;32m    582\u001b[0m         \u001b[39m# if this is happening sys.stderr may be the problem.\u001b[39;00m\n\u001b[1;32m    583\u001b[0m         \u001b[39mprint\u001b[39m(\u001b[39m\"\u001b[39m\u001b[39mIOStream.flush timed out\u001b[39m\u001b[39m\"\u001b[39m, file\u001b[39m=\u001b[39msys\u001b[39m.\u001b[39m__stderr__)\n\u001b[1;32m    584\u001b[0m \u001b[39melse\u001b[39;00m:\n",
      "File \u001b[0;32m/usr/lib/python3.10/threading.py:607\u001b[0m, in \u001b[0;36mEvent.wait\u001b[0;34m(self, timeout)\u001b[0m\n\u001b[1;32m    605\u001b[0m signaled \u001b[39m=\u001b[39m \u001b[39mself\u001b[39m\u001b[39m.\u001b[39m_flag\n\u001b[1;32m    606\u001b[0m \u001b[39mif\u001b[39;00m \u001b[39mnot\u001b[39;00m signaled:\n\u001b[0;32m--> 607\u001b[0m     signaled \u001b[39m=\u001b[39m \u001b[39mself\u001b[39;49m\u001b[39m.\u001b[39;49m_cond\u001b[39m.\u001b[39;49mwait(timeout)\n\u001b[1;32m    608\u001b[0m \u001b[39mreturn\u001b[39;00m signaled\n",
      "File \u001b[0;32m/usr/lib/python3.10/threading.py:324\u001b[0m, in \u001b[0;36mCondition.wait\u001b[0;34m(self, timeout)\u001b[0m\n\u001b[1;32m    322\u001b[0m \u001b[39melse\u001b[39;00m:\n\u001b[1;32m    323\u001b[0m     \u001b[39mif\u001b[39;00m timeout \u001b[39m>\u001b[39m \u001b[39m0\u001b[39m:\n\u001b[0;32m--> 324\u001b[0m         gotit \u001b[39m=\u001b[39m waiter\u001b[39m.\u001b[39;49macquire(\u001b[39mTrue\u001b[39;49;00m, timeout)\n\u001b[1;32m    325\u001b[0m     \u001b[39melse\u001b[39;00m:\n\u001b[1;32m    326\u001b[0m         gotit \u001b[39m=\u001b[39m waiter\u001b[39m.\u001b[39macquire(\u001b[39mFalse\u001b[39;00m)\n",
      "\u001b[0;31mKeyboardInterrupt\u001b[0m: "
     ]
    }
   ],
   "source": [
    "# STEP 4: Create the epochs\n",
    "epochs = mne.Epochs(\n",
    "    raw, \n",
    "    real_events,\n",
    "    event_id = updated_event_ids, \n",
    "    tmin = tmin, \n",
    "    tmax = tmax, \n",
    "    picks=[\"eeg\"],\n",
    "    baseline=(None, 0), \n",
    "    reject=reject, \n",
    "    preload=True\n",
    "    )"
   ]
  },
  {
   "cell_type": "markdown",
   "metadata": {},
   "source": [
    "**At this point call Laura over to have a look!**"
   ]
  },
  {
   "cell_type": "markdown",
   "metadata": {},
   "source": [
    "## 7. Downsampling"
   ]
  },
  {
   "cell_type": "code",
   "execution_count": null,
   "metadata": {},
   "outputs": [],
   "source": [
    "# STEP 1: Downsample to 250 Hz"
   ]
  },
  {
   "cell_type": "markdown",
   "metadata": {},
   "source": [
    "# Analysis\n",
    "Using the logic from yesterdays class try and come up with different trial types that would be interesting to compare and contrast"
   ]
  }
 ],
 "metadata": {
  "kernelspec": {
   "display_name": "env",
   "language": "python",
   "name": "env"
  },
  "language_info": {
   "codemirror_mode": {
    "name": "ipython",
    "version": 3
   },
   "file_extension": ".py",
   "mimetype": "text/x-python",
   "name": "python",
   "nbconvert_exporter": "python",
   "pygments_lexer": "ipython3",
   "version": "3.10.12"
  },
  "orig_nbformat": 4
 },
 "nbformat": 4,
 "nbformat_minor": 2
}
