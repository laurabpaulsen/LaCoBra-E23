{
 "cells": [
  {
   "cell_type": "markdown",
   "metadata": {},
   "source": [
    "#### Setting up Python\n",
    "Before starting to analyse our own EEG data, we need to make sure we have our virtual environment we created during the `MNE-tutorial`.\n",
    "\n",
    "1. Press `Select Kernel` in the top right corner and install the recommended extensions. Choose a python kernel afterwards by clicking the same icon. \n",
    "2. Run the code chunk below\n",
    "3. Change the kernel used to run the code in this notebook. Press where it says `Python X.XX.XX` in the top right corner, then `Select Another Kernel`, then `Jupyter kernel...` and then select `env`. If `env` does not show up, press the little refresh symbol! "
   ]
  },
  {
   "cell_type": "code",
   "execution_count": 1,
   "metadata": {},
   "outputs": [
    {
     "name": "stdout",
     "output_type": "stream",
     "text": [
      "Installed kernelspec env in /home/ucloud/.local/share/jupyter/kernels/env\n"
     ]
    }
   ],
   "source": [
    "!bash ../env_to_ipynb_kernel.sh"
   ]
  },
  {
   "cell_type": "markdown",
   "metadata": {},
   "source": [
    "# Analysis of EEG data collected!\n",
    "\n",
    "The workflow of preprocessing is as follows!\n",
    "1. Load the data\n",
    "2. Exclude bad channels\n",
    "3. Common average reference\n",
    "4. Filtering\n",
    "5. Artefact rejection\n",
    "6. Epoching\n",
    "7. Downsampling\n",
    "\n",
    "This is the same workflow as in the `preprocessing_tutorial.ipynb`"
   ]
  },
  {
   "cell_type": "code",
   "execution_count": null,
   "metadata": {},
   "outputs": [],
   "source": [
    "# INSTALL PACKAGES"
   ]
  },
  {
   "cell_type": "markdown",
   "metadata": {},
   "source": [
    "## 1. Load the data\n",
    "As we are no longer using sample data from MNE, the process of loading the data will be a bit different. Therefore, code to help you is provided here!"
   ]
  },
  {
   "cell_type": "code",
   "execution_count": null,
   "metadata": {},
   "outputs": [],
   "source": [
    "# reading the file & loading in the data\n",
    "data_folder = '/work/xxxxxx/'\n",
    "\n",
    "# path to the data - MAKE SURE TO CHANGE PATH ACCORDING TO YOUR GROUP NUMBER!\n",
    "data_path = os.path.join (data_folder, \"Group5a\", \"Group5a_read.vhdr\")\n",
    "\n",
    "raw = mne.io.read_raw_brainvision(data_raw_file)\n",
    "raw.load_data()\n",
    "\n",
    "# set standard montage\n",
    "montage = mne.channels.make_standard_montage('standard_1020')\n",
    "\n",
    "raw.set_montage(montage, verbose=False)\n",
    "\n",
    "# choose only EEG and stimuli channel\n",
    "raw.pick_types(meg=False, eeg=True, stim=True, exclude=[])"
   ]
  },
  {
   "cell_type": "markdown",
   "metadata": {},
   "source": [
    "## 2. Exclude bad channels"
   ]
  },
  {
   "cell_type": "markdown",
   "metadata": {},
   "source": [
    "## 3. Common average reference"
   ]
  },
  {
   "cell_type": "markdown",
   "metadata": {},
   "source": [
    "## 4. Filtering"
   ]
  },
  {
   "cell_type": "markdown",
   "metadata": {},
   "source": [
    "## 5. Artefact rejection"
   ]
  },
  {
   "cell_type": "markdown",
   "metadata": {},
   "source": [
    "## 6. Epoching"
   ]
  },
  {
   "cell_type": "markdown",
   "metadata": {},
   "source": [
    "## 7. Downsampling"
   ]
  }
 ],
 "metadata": {
  "kernelspec": {
   "display_name": "env",
   "language": "python",
   "name": "env"
  },
  "language_info": {
   "codemirror_mode": {
    "name": "ipython",
    "version": 3
   },
   "file_extension": ".py",
   "mimetype": "text/x-python",
   "name": "python",
   "nbconvert_exporter": "python",
   "pygments_lexer": "ipython3",
   "version": "3.10.12"
  },
  "orig_nbformat": 4
 },
 "nbformat": 4,
 "nbformat_minor": 2
}
