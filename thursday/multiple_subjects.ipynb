{
 "cells": [
  {
   "cell_type": "markdown",
   "metadata": {},
   "source": [
    "# Analysing data from multiple subjects"
   ]
  },
  {
   "cell_type": "markdown",
   "metadata": {},
   "source": [
    "#### Setting up Python\n",
    "Before starting to analyse our own EEG data, we need to make sure we have our virtual environment we created during the `MNE-tutorial`.\n",
    "\n",
    "1. Press `Select Kernel`, then `Python Environments...` and then choose any Python kernel. \n",
    "2. Run the code chunk below\n",
    "3. Change the kernel used to run the code in this notebook. Press where it says `Python X.XX.XX` in the top right corner, then `Select Another Kernel`, then `Jupyter kernel...` and then select `env`. If `env` does not show up, press the little refresh symbol! "
   ]
  },
  {
   "cell_type": "code",
   "execution_count": null,
   "metadata": {
    "vscode": {
     "languageId": "plaintext"
    }
   },
   "outputs": [],
   "source": [
    "!bash ../env_to_ipynb_kernel.sh"
   ]
  },
  {
   "cell_type": "markdown",
   "metadata": {},
   "source": [
    "## Defining functions"
   ]
  },
  {
   "cell_type": "code",
   "execution_count": null,
   "metadata": {},
   "outputs": [],
   "source": [
    "# function fo preprocessing one subject\n",
    "\n",
    "def preproc_subject(raw, logfile, bad_channels = [\"Fp1\", \"Fp2\"]):"
   ]
  }
 ],
 "metadata": {
  "language_info": {
   "name": "python"
  },
  "orig_nbformat": 4
 },
 "nbformat": 4,
 "nbformat_minor": 2
}
