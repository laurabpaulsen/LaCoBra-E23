{
 "cells": [
  {
   "cell_type": "markdown",
   "id": "059acd4d",
   "metadata": {},
   "source": [
    "# EEG Statistics\n",
    "\n",
    "Using some of the data you collected, we are going to go through a couple of different ways to discern whether the difference in signal between your conditions is statistically significant.\n",
    "\n",
    "#### Setting up Python\n",
    "Before starting to analyse our own EEG data, we need to make sure we have our virtual environment we created during the `MNE-tutorial`.\n",
    "\n",
    "1. Press `Select Kernel`, then `Python Environments...` and then choose any Python kernel. \n",
    "2. Run the code chunk below\n",
    "3. Change the kernel used to run the code in this notebook. Press where it says `Python X.XX.XX` in the top right corner, then `Select Another Kernel`, then `Jupyter kernel...` and then select `env`. If `env` does not show up, press the little refresh symbol! "
   ]
  },
  {
   "cell_type": "code",
   "execution_count": null,
   "id": "e0614dc9",
   "metadata": {},
   "outputs": [],
   "source": [
    "!bash ../env_to_ipynb_kernel.sh"
   ]
  },
  {
   "cell_type": "markdown",
   "id": "920b8639",
   "metadata": {},
   "source": [
    "#### Import packages"
   ]
  },
  {
   "cell_type": "code",
   "execution_count": null,
   "id": "daa32cce",
   "metadata": {},
   "outputs": [],
   "source": [
    "import mne\n",
    "import numpy as np\n",
    "import pandas as pd\n",
    "import os"
   ]
  },
  {
   "cell_type": "markdown",
   "id": "7eb4cfcd",
   "metadata": {},
   "source": [
    "\n",
    "## Epochs\n",
    "We need epochs for the statistical tests, so you can copy the code from another notebook to create epochs. You can also run the code where you create your epochs in another notebook and save the epochs by using this code:\n",
    "\n",
    "```epochs.save(\"../SUPERCOOLFILENAMEHERE-epo.fif\", overwrite=True)```\n",
    "\n",
    "Then you can read the saved epochs into this file by using:\n",
    "\n",
    "```epochs = mne.read_epochs(\"../SUPERCOOLFILENAMEHERE-epo.fif\", preload=True)```"
   ]
  },
  {
   "cell_type": "code",
   "execution_count": null,
   "id": "f9b91b17",
   "metadata": {},
   "outputs": [],
   "source": [
    "# LOAD OR CREATE EPOCHS HERE!"
   ]
  },
  {
   "cell_type": "code",
   "execution_count": null,
   "id": "a9762b2f",
   "metadata": {},
   "outputs": [],
   "source": [
    "# Extract the contrast you are interested in using the following code as an example\n",
    "\n",
    "# epochs_condition1 = epochs[\"incongruent\"]\n",
    "# epochs_condition2 = epochs[\"congruent\"]"
   ]
  },
  {
   "cell_type": "markdown",
   "id": "859ee979-9344-4e74-ad59-08eb6a89d58b",
   "metadata": {
    "tags": []
   },
   "source": [
    "## Windowed mean\n",
    "Now we have our two conditions: trials with words vs images. One of the simplest way in which we can determine whether the signal in our two conditions are statistically significant is by:\n",
    "\n",
    "1) Segmenting our data using only certain channels in a specific time window. Keep in mind that which time window and channels should be established a priori, for instance according to the literature. \n",
    "2) Taking the mean of that window across channels and and samples.\n",
    "3) Running statistical tests on the windowed means from the two conditions.\n",
    "\n",
    "In an experiment with multiple participants we would also average over trials from individual participants, in order to only have one data point per participant (and thereby avoid multiple comparisons). However, since we have one participant, we can keep one dimension of the individual data, i.e. the trials.\n",
    "\n",
    "### T-test\n",
    "We can now do a t-test on the trials from the two conditions, to establish whether the means of the two groups are statistically significant.\n",
    "\n",
    "We can use the get_data() function to get the numerical values of the signal (in microvolts) for the t-test. tmin and tmax are used to define the size of the window, and the picks are the channels that we expect to see an effect in."
   ]
  },
  {
   "cell_type": "code",
   "execution_count": null,
   "id": "f1c73fca-e820-4191-b071-19e144f3a5f4",
   "metadata": {
    "execution": {
     "iopub.execute_input": "2022-05-05T09:21:17.418277Z",
     "iopub.status.busy": "2022-05-05T09:21:17.417906Z",
     "iopub.status.idle": "2022-05-05T09:21:17.452462Z",
     "shell.execute_reply": "2022-05-05T09:21:17.451563Z",
     "shell.execute_reply.started": "2022-05-05T09:21:17.418239Z"
    },
    "tags": []
   },
   "outputs": [],
   "source": [
    "# INSERT CHANNEL NAMES YOU ARE INTERESTED IN BELOW\n",
    "picks = [\"\", \"\", \"\"]\n",
    "\n",
    "\n",
    "# DETERMINE THE TIME FRAME YOU WANT TO LOOK AT (remember to write it in seconds )\n",
    "tmin = # INSERT NUMBER HERE\n",
    "tmax = # INSERT NUMBER HERE\n"
   ]
  },
  {
   "cell_type": "code",
   "execution_count": null,
   "id": "ce930af3",
   "metadata": {},
   "outputs": [],
   "source": [
    "# Now we can extract the data using the following logic\n",
    "# data_condition1 = epochs_codition1.get_data(picks = picks, tmin = tmin, tmax = tmax)\n",
    "# data_condition2 = epochs_codition2.get_data(picks = picks, tmin = tmin, tmax = tmax)"
   ]
  },
  {
   "cell_type": "markdown",
   "id": "24ad0aea-7a65-4dae-ade6-b3ca4cbf4e10",
   "metadata": {},
   "source": [
    "Investigating the resulting data; how many dimensions does the data have? What do you think they represent (i.e. which dimension is channels, trials, etc.)?"
   ]
  },
  {
   "cell_type": "code",
   "execution_count": null,
   "id": "2c9e2e07",
   "metadata": {},
   "outputs": [],
   "source": [
    "print(data_condition1.shape)\n",
    "print(data_condition2.shape)"
   ]
  },
  {
   "cell_type": "markdown",
   "id": "73213432",
   "metadata": {},
   "source": [
    "Now we can average over the data so we only have the trials dimension."
   ]
  },
  {
   "cell_type": "code",
   "execution_count": null,
   "id": "7945d0f9-517f-40e2-85bf-3e9487c1c02c",
   "metadata": {
    "execution": {
     "iopub.execute_input": "2022-05-05T09:21:17.455574Z",
     "iopub.status.busy": "2022-05-05T09:21:17.454920Z",
     "iopub.status.idle": "2022-05-05T09:21:17.587908Z",
     "shell.execute_reply": "2022-05-05T09:21:17.587307Z",
     "shell.execute_reply.started": "2022-05-05T09:21:17.455534Z"
    },
    "tags": []
   },
   "outputs": [],
   "source": [
    "data_condition1_mean = np.mean(data_condition1, axis=2) # averaging over the third dimension of the data\n",
    "print(data_condition1_mean.shape)\n",
    "\n",
    "data_condition1_mean = np.mean(data_condition1_mean, axis=1) # averaging over the second dimension of the data\n",
    "print(data_condition1_mean.shape)\n",
    "\n",
    "## Now do the same for the second condition!\n",
    "\n",
    "# INSERT CODE HERE"
   ]
  },
  {
   "cell_type": "markdown",
   "id": "239ebb4f",
   "metadata": {},
   "source": [
    "### Running the t-test"
   ]
  },
  {
   "cell_type": "code",
   "execution_count": null,
   "id": "d5d2f134",
   "metadata": {},
   "outputs": [],
   "source": [
    "# installing additional packages\n",
    "!pip install scipy\n",
    "from scipy import stats as st\n",
    "import statistics as stats"
   ]
  },
  {
   "cell_type": "code",
   "execution_count": null,
   "id": "8c3ab517-4410-414c-a900-7ecd5dd9068a",
   "metadata": {
    "execution": {
     "iopub.execute_input": "2022-05-05T09:21:17.589334Z",
     "iopub.status.busy": "2022-05-05T09:21:17.589047Z",
     "iopub.status.idle": "2022-05-05T09:21:18.047436Z",
     "shell.execute_reply": "2022-05-05T09:21:18.046909Z",
     "shell.execute_reply.started": "2022-05-05T09:21:17.589297Z"
    },
    "tags": []
   },
   "outputs": [],
   "source": [
    "# running the t-test\n",
    "st.ttest_ind(a=data_condition1_mean, b=data_condition2_mean)"
   ]
  }
 ],
 "metadata": {
  "interpreter": {
   "hash": "ad5c30fea5466ca3b04feb7e0a99857a92ee68be4c3f4107148abce45ea17a05"
  },
  "kernelspec": {
   "display_name": "Python 3 ",
   "language": "python",
   "name": "python3"
  },
  "language_info": {
   "codemirror_mode": {
    "name": "ipython",
    "version": 3
   },
   "file_extension": ".py",
   "mimetype": "text/x-python",
   "name": "python",
   "nbconvert_exporter": "python",
   "pygments_lexer": "ipython3",
   "version": "3.10.12"
  },
  "toc": {
   "base_numbering": 1,
   "nav_menu": {},
   "number_sections": true,
   "sideBar": true,
   "skip_h1_title": false,
   "title_cell": "Table of Contents",
   "title_sidebar": "Contents",
   "toc_cell": false,
   "toc_position": {},
   "toc_section_display": true,
   "toc_window_display": false
  }
 },
 "nbformat": 4,
 "nbformat_minor": 5
}
